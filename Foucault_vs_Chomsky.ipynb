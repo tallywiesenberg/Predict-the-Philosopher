{
 "cells": [
  {
   "cell_type": "markdown",
   "metadata": {},
   "source": [
    "# Preprocessing"
   ]
  },
  {
   "cell_type": "code",
   "execution_count": 1,
   "metadata": {},
   "outputs": [],
   "source": [
    "import numpy as np\n",
    "import spacy\n",
    "import gensim\n",
    "import os\n",
    "import re\n",
    "from gensim.utils import simple_preprocess, lemmatize\n",
    "from gensim.parsing.preprocessing import STOPWORDS\n",
    "from gensim import corpora\n",
    "\n",
    "from gensim.models.ldamulticore import LdaMulticore\n",
    "\n",
    "import pandas as pd\n",
    "nlp = spacy.load(\"en_core_web_lg\")"
   ]
  },
  {
   "cell_type": "code",
   "execution_count": 2,
   "metadata": {
    "colab": {
     "base_uri": "https://localhost:8080/",
     "height": 229
    },
    "colab_type": "code",
    "id": "aLdX4J785gXQ",
    "outputId": "1edf7396-9e94-42e1-fa6b-04832907fa2b"
   },
   "outputs": [],
   "source": [
    "from bs4 import BeautifulSoup\n",
    "from os import mkdir\n",
    "import requests\n",
    "#Dicitionary used to access full book text in HTML format\n",
    "urls = {'foucault_madness_and_civ':'https://archive.org/stream/Michel_Foucault_Madness_And_Civilization/Michel%20Foucault%2C%20Richard%20Howard%20%28transl.%29%20-%20Madness%20and%20Civilization_%20A%20History%20of%20Insanity%20in%20the%20Age%20of%20Reason%20%282013%2C%20Vintage%29_djvu.txt',\n",
    "        'foucault_discipline_and_punish': 'https://archive.org/stream/MichelFoucaultDisciplineAndPunish/Michel%20Foucault%20-%20Discipline%20and%20Punish_djvu.txt',\n",
    "        'foucault_history_of_sexuality':'https://archive.org/stream/TheHistoryOfSexualityVol13/The-History-Of-Sexuality-Vol-1-3_djvu.txt',\n",
    "        'chomsky_media_control': 'https://archive.org/stream/media_Noam_Chomsky-Media_Control/Noam_Chomsky-Media_Control_djvu.txt',\n",
    "        'chomsky_american_power': 'https://archive.org/stream/AmericanPowerAndTheNewMandarins_201805/American%20Power%20And%20The%20New%20Mandarins_djvu.txt',\n",
    "        'chomsky_manufacturing_consent': 'https://archive.org/stream/revhosatx14/%5BEdward_S._Herman%2C_Noam_Chomsky%5D_Manufacturing_Con%28b-ok.org%29_djvu.txt'}"
   ]
  },
  {
   "cell_type": "code",
   "execution_count": 3,
   "metadata": {},
   "outputs": [],
   "source": [
    "def file_books(title, link):\n",
    "    '''Create directories for book from title and link'''\n",
    "    #Access HTML webpage on Internet Archive\n",
    "    r = requests.get(link)\n",
    "    data = r.text\n",
    "    soup = BeautifulSoup(data)\n",
    "    #Full text is in <pre> part of HTML doc\n",
    "    book = soup.pre.string\n",
    "    #Write book as text file, save file\n",
    "    with open(f'./data/{title}.txt', 'w', encoding='utf-8') as book_file:\n",
    "        book_file.write(book)\n",
    "        #Make a folder for each book\n",
    "        mkdir(f'./data/{title}_extracts')\n",
    "def split_book(title, n_lines=100):\n",
    "    '''Split a text file based on a number of lines, book title'''\n",
    "    #Find file path based on title\n",
    "    filepath = f'./data/{title}.txt'\n",
    "    #Extract directory and filename from file path\n",
    "    path, filename = os.path.split(filepath)\n",
    "    #Change path to book's directory\n",
    "    path += f'/{title}_extracts'\n",
    "    # filename.split('.') would not work for filenames with more than one .\n",
    "    basename, ext = os.path.splitext(filename)\n",
    "    #open input file\n",
    "    with open(filepath, 'r', encoding='utf-8') as book_file:\n",
    "        try:\n",
    "            #open the first output(extract) file\n",
    "            extract_file = open(os.path.join(path, '{}_{}{}'.format(basename, 0, ext)), 'w', encoding='utf-8')\n",
    "            #Loop over all lines of input file, number them\n",
    "            for i, line in enumerate(book_file):\n",
    "                #Close extract file and open a new one\n",
    "                #When the line number % desired n_lines is 0\n",
    "                if i % n_lines == 0:\n",
    "                    extract_file.close()\n",
    "                    #Open the next output file to write the next extract\n",
    "                    extract_file = open(os.path.join(path, '{}_{}{}'.format(basename, i/100, ext)), 'w', encoding='utf-8')\n",
    "                #write the line to extract file\n",
    "                extract_file.write(line)\n",
    "        finally:\n",
    "            #close last output file\n",
    "            extract_file.close()"
   ]
  },
  {
   "cell_type": "code",
   "execution_count": 4,
   "metadata": {},
   "outputs": [],
   "source": [
    "if not os.path.isdir('./data'):  \n",
    "    os.mkdir('./data')\n",
    "for title, link in urls.items():\n",
    "    if not os.path.isdir(f'./data/{title}_extracts'):\n",
    "        file_books(title, link)\n",
    "        split_book(title)"
   ]
  },
  {
   "cell_type": "code",
   "execution_count": 5,
   "metadata": {},
   "outputs": [],
   "source": [
    "def tokenize(doc):\n",
    "    '''Tokenizer with lemmatizer'''\n",
    "    return [token.lemma_ for token in nlp(doc) if (token.is_stop == False) &\n",
    "            (token.is_punct == False) & (token.is_space == False) &\n",
    "            (token.is_upper == False) & (token.pos_ != 'PROPN')]\n",
    "def gather_data(path_to_data):\n",
    "    path = f'./data/{path_to_data}'\n",
    "    data = {'extracts': [], 'author': []}\n",
    "    #For file at the given path\n",
    "    for file in os.listdir(path):\n",
    "        #If the directory is not a folder\n",
    "        if os.path.isdir(file) == False:\n",
    "            #If the file type is .txt\n",
    "            if file[-3:] == 'txt':\n",
    "                #Open each text file at the path provided\n",
    "                with open(os.path.join(path, file), encoding='utf-8') as t:\n",
    "                    #Read and strip new line signal\n",
    "                    text = t.read().replace('\\n', ' ')\n",
    "                    data['extracts'].append(str(text))\n",
    "                    data['author'].append(path_to_data.split('_')[0])\n",
    "    return data"
   ]
  },
  {
   "cell_type": "code",
   "execution_count": null,
   "metadata": {},
   "outputs": [],
   "source": []
  },
  {
   "cell_type": "code",
   "execution_count": 6,
   "metadata": {
    "colab": {},
    "colab_type": "code",
    "id": "f3N0RmPm6dHm"
   },
   "outputs": [
    {
     "data": {
      "text/plain": [
       "['leave', 'believe']"
      ]
     },
     "execution_count": 6,
     "metadata": {},
     "output_type": "execute_result"
    }
   ],
   "source": [
    "tokenize('If you should ever leave me, Jack your LIFE would still go on believe me')      "
   ]
  },
  {
   "cell_type": "code",
   "execution_count": 24,
   "metadata": {
    "colab": {},
    "colab_type": "code",
    "id": "anjsdCcSlbTe"
   },
   "outputs": [
    {
     "data": {
      "text/plain": [
       "'american power extracts'"
      ]
     },
     "execution_count": 24,
     "metadata": {},
     "output_type": "execute_result"
    }
   ],
   "source": [
    "extracts_dirs = [folder for folder in os.listdir('./data') if (os.path.isdir(f'./data/{folder}') == True)]"
   ]
  },
  {
   "cell_type": "code",
   "execution_count": 26,
   "metadata": {},
   "outputs": [
    {
     "name": "stdout",
     "output_type": "stream",
     "text": [
      "(1080, 2)\n"
     ]
    }
   ],
   "source": [
    "df_final = pd.DataFrame({'extracts': [], 'author': []})\n",
    "for directory in extracts_dirs:\n",
    "    extracts = gather_data(directory)\n",
    "    df = pd.DataFrame(extracts, columns = extracts.keys())\n",
    "    df_final = pd.concat([df_final, df], axis=0)\n",
    "#     print(extracts['author'])\n",
    "#     print(directory)\n",
    "print(df_final.shape)\n",
    "df_final = df_final.reset_index()"
   ]
  },
  {
   "cell_type": "code",
   "execution_count": 28,
   "metadata": {},
   "outputs": [],
   "source": [
    "df_final.to_csv('./data/dataframe.csv', index=False)"
   ]
  },
  {
   "cell_type": "code",
   "execution_count": 29,
   "metadata": {},
   "outputs": [],
   "source": [
    "import pickle\n",
    "file = open(f'./data/dataframe.pkl', 'wb')\n",
    "pickle.dump(df_final, file)"
   ]
  },
  {
   "cell_type": "markdown",
   "metadata": {},
   "source": [
    "# Model"
   ]
  },
  {
   "cell_type": "markdown",
   "metadata": {},
   "source": [
    "## Train/Test Split"
   ]
  },
  {
   "cell_type": "code",
   "execution_count": 11,
   "metadata": {},
   "outputs": [
    {
     "ename": "ModuleNotFoundError",
     "evalue": "No module named 'imblearn'",
     "output_type": "error",
     "traceback": [
      "\u001b[1;31m----------------------------------------------------------------\u001b[0m",
      "\u001b[1;31mModuleNotFoundError\u001b[0m            Traceback (most recent call last)",
      "\u001b[1;32m<ipython-input-11-f327d60d7013>\u001b[0m in \u001b[0;36m<module>\u001b[1;34m\u001b[0m\n\u001b[1;32m----> 1\u001b[1;33m \u001b[1;32mimport\u001b[0m \u001b[0mimblearn\u001b[0m\u001b[1;33m\u001b[0m\u001b[1;33m\u001b[0m\u001b[0m\n\u001b[0m",
      "\u001b[1;31mModuleNotFoundError\u001b[0m: No module named 'imblearn'"
     ]
    }
   ],
   "source": [
    "import imblearn"
   ]
  },
  {
   "cell_type": "code",
   "execution_count": 12,
   "metadata": {},
   "outputs": [],
   "source": [
    "from sklearn.model_selection import train_test_split\n",
    "X = df_final['extracts']\n",
    "y = df_final['author']\n",
    "\n",
    "X_train, X_test, y_train, y_test = train_test_split(X, y, test_size=0.1, shuffle=True)"
   ]
  },
  {
   "cell_type": "code",
   "execution_count": 13,
   "metadata": {},
   "outputs": [],
   "source": [
    "X_train, X_val, y_train, y_val = train_test_split(X_train, y_train, test_size=0.2, shuffle=True)"
   ]
  },
  {
   "cell_type": "markdown",
   "metadata": {},
   "source": [
    "## Randomized Search w/ Random Forest"
   ]
  },
  {
   "cell_type": "code",
   "execution_count": 43,
   "metadata": {},
   "outputs": [],
   "source": [
    "from imblearn.ensemble import BalancedRandomForestClassifier\n",
    "from imblearn.pipeline import Pipeline\n",
    "from imblearn.over_sampling import SMOTE\n",
    "from imblearn.under_sampling import RandomUnderSampler\n",
    "from sklearn.feature_extraction.text import CountVectorizer, TfidfVectorizer\n",
    "from sklearn.ensemble import RandomForestClassifier\n",
    "from sklearn.model_selection import RandomizedSearchCV\n",
    "from sklearn.naive_bayes import MultinomialNB\n",
    "# from sklearn.pipeline import Pipeline\n",
    "counter = TfidfVectorizer(\n",
    "#     max_df = .97,\n",
    "#                           min_df = 5,\n",
    "#                           stop_words='english',\n",
    "# #                           ngram_range= (1,3),\n",
    "                          tokenizer=tokenize)\n",
    "\n",
    "rf = RandomForestClassifier()\n",
    "nb = \n",
    "rusampler = RandomUnderSampler()\n",
    "smote = SMOTE('all')"
   ]
  },
  {
   "cell_type": "code",
   "execution_count": 48,
   "metadata": {},
   "outputs": [],
   "source": [
    "pipeline = Pipeline([('counter', counter),\n",
    "                     ('sampler', rusampler),\n",
    "                     ('rf', rf)])\n",
    "parameters = {\n",
    "    'counter__max_df': [i/100 for i in range(75, 100)],\n",
    "    'counter__min_df': range(0, 10),\n",
    "    'counter__ngram_range': [(1,2), (1, 3), (2,3), (3, 6), (2, 7)],\n",
    "    'counter__analyzer': ['word', 'char', 'char_wb'],\n",
    "    'rf__max_depth': range(5,20),\n",
    "    'rf__min_samples_split': range(2, 10),\n",
    "    'rf__min_samples_leaf': range(1,50)\n",
    "}\n",
    "\n",
    "rand_search = RandomizedSearchCV(pipeline, parameters, cv=2, n_iter=8, n_jobs=1, verbose=2)"
   ]
  },
  {
   "cell_type": "code",
   "execution_count": 49,
   "metadata": {},
   "outputs": [
    {
     "name": "stdout",
     "output_type": "stream",
     "text": [
      "Fitting 2 folds for each of 8 candidates, totalling 16 fits\n",
      "[CV] rf__min_samples_split=4, rf__min_samples_leaf=11, rf__max_depth=16, counter__ngram_range=(2, 7), counter__min_df=9, counter__max_df=0.76, counter__analyzer=word \n"
     ]
    },
    {
     "name": "stderr",
     "output_type": "stream",
     "text": [
      "[Parallel(n_jobs=1)]: Using backend SequentialBackend with 1 concurrent workers.\n"
     ]
    },
    {
     "name": "stdout",
     "output_type": "stream",
     "text": [
      "[CV]  rf__min_samples_split=4, rf__min_samples_leaf=11, rf__max_depth=16, counter__ngram_range=(2, 7), counter__min_df=9, counter__max_df=0.76, counter__analyzer=word, total= 2.4min\n",
      "[CV] rf__min_samples_split=4, rf__min_samples_leaf=11, rf__max_depth=16, counter__ngram_range=(2, 7), counter__min_df=9, counter__max_df=0.76, counter__analyzer=word \n"
     ]
    },
    {
     "name": "stderr",
     "output_type": "stream",
     "text": [
      "[Parallel(n_jobs=1)]: Done   1 out of   1 | elapsed:  2.4min remaining:    0.0s\n"
     ]
    },
    {
     "name": "stdout",
     "output_type": "stream",
     "text": [
      "[CV]  rf__min_samples_split=4, rf__min_samples_leaf=11, rf__max_depth=16, counter__ngram_range=(2, 7), counter__min_df=9, counter__max_df=0.76, counter__analyzer=word, total= 2.6min\n",
      "[CV] rf__min_samples_split=2, rf__min_samples_leaf=23, rf__max_depth=9, counter__ngram_range=(1, 2), counter__min_df=4, counter__max_df=0.82, counter__analyzer=word \n",
      "[CV]  rf__min_samples_split=2, rf__min_samples_leaf=23, rf__max_depth=9, counter__ngram_range=(1, 2), counter__min_df=4, counter__max_df=0.82, counter__analyzer=word, total= 2.6min\n",
      "[CV] rf__min_samples_split=2, rf__min_samples_leaf=23, rf__max_depth=9, counter__ngram_range=(1, 2), counter__min_df=4, counter__max_df=0.82, counter__analyzer=word \n",
      "[CV]  rf__min_samples_split=2, rf__min_samples_leaf=23, rf__max_depth=9, counter__ngram_range=(1, 2), counter__min_df=4, counter__max_df=0.82, counter__analyzer=word, total= 2.6min\n",
      "[CV] rf__min_samples_split=6, rf__min_samples_leaf=36, rf__max_depth=5, counter__ngram_range=(1, 2), counter__min_df=8, counter__max_df=0.9, counter__analyzer=word \n",
      "[CV]  rf__min_samples_split=6, rf__min_samples_leaf=36, rf__max_depth=5, counter__ngram_range=(1, 2), counter__min_df=8, counter__max_df=0.9, counter__analyzer=word, total= 2.5min\n",
      "[CV] rf__min_samples_split=6, rf__min_samples_leaf=36, rf__max_depth=5, counter__ngram_range=(1, 2), counter__min_df=8, counter__max_df=0.9, counter__analyzer=word \n",
      "[CV]  rf__min_samples_split=6, rf__min_samples_leaf=36, rf__max_depth=5, counter__ngram_range=(1, 2), counter__min_df=8, counter__max_df=0.9, counter__analyzer=word, total= 2.5min\n",
      "[CV] rf__min_samples_split=2, rf__min_samples_leaf=47, rf__max_depth=15, counter__ngram_range=(1, 3), counter__min_df=7, counter__max_df=0.91, counter__analyzer=char \n",
      "[CV]  rf__min_samples_split=2, rf__min_samples_leaf=47, rf__max_depth=15, counter__ngram_range=(1, 3), counter__min_df=7, counter__max_df=0.91, counter__analyzer=char, total=  10.8s\n",
      "[CV] rf__min_samples_split=2, rf__min_samples_leaf=47, rf__max_depth=15, counter__ngram_range=(1, 3), counter__min_df=7, counter__max_df=0.91, counter__analyzer=char \n",
      "[CV]  rf__min_samples_split=2, rf__min_samples_leaf=47, rf__max_depth=15, counter__ngram_range=(1, 3), counter__min_df=7, counter__max_df=0.91, counter__analyzer=char, total=  11.1s\n",
      "[CV] rf__min_samples_split=5, rf__min_samples_leaf=26, rf__max_depth=5, counter__ngram_range=(2, 3), counter__min_df=7, counter__max_df=0.85, counter__analyzer=word \n",
      "[CV]  rf__min_samples_split=5, rf__min_samples_leaf=26, rf__max_depth=5, counter__ngram_range=(2, 3), counter__min_df=7, counter__max_df=0.85, counter__analyzer=word, total= 3.1min\n",
      "[CV] rf__min_samples_split=5, rf__min_samples_leaf=26, rf__max_depth=5, counter__ngram_range=(2, 3), counter__min_df=7, counter__max_df=0.85, counter__analyzer=word \n",
      "[CV]  rf__min_samples_split=5, rf__min_samples_leaf=26, rf__max_depth=5, counter__ngram_range=(2, 3), counter__min_df=7, counter__max_df=0.85, counter__analyzer=word, total= 3.2min\n",
      "[CV] rf__min_samples_split=3, rf__min_samples_leaf=34, rf__max_depth=7, counter__ngram_range=(1, 3), counter__min_df=6, counter__max_df=0.86, counter__analyzer=word \n",
      "[CV]  rf__min_samples_split=3, rf__min_samples_leaf=34, rf__max_depth=7, counter__ngram_range=(1, 3), counter__min_df=6, counter__max_df=0.86, counter__analyzer=word, total= 2.9min\n",
      "[CV] rf__min_samples_split=3, rf__min_samples_leaf=34, rf__max_depth=7, counter__ngram_range=(1, 3), counter__min_df=6, counter__max_df=0.86, counter__analyzer=word \n",
      "[CV]  rf__min_samples_split=3, rf__min_samples_leaf=34, rf__max_depth=7, counter__ngram_range=(1, 3), counter__min_df=6, counter__max_df=0.86, counter__analyzer=word, total= 2.9min\n",
      "[CV] rf__min_samples_split=9, rf__min_samples_leaf=48, rf__max_depth=9, counter__ngram_range=(1, 2), counter__min_df=6, counter__max_df=0.91, counter__analyzer=char_wb \n",
      "[CV]  rf__min_samples_split=9, rf__min_samples_leaf=48, rf__max_depth=9, counter__ngram_range=(1, 2), counter__min_df=6, counter__max_df=0.91, counter__analyzer=char_wb, total=   8.0s\n",
      "[CV] rf__min_samples_split=9, rf__min_samples_leaf=48, rf__max_depth=9, counter__ngram_range=(1, 2), counter__min_df=6, counter__max_df=0.91, counter__analyzer=char_wb \n",
      "[CV]  rf__min_samples_split=9, rf__min_samples_leaf=48, rf__max_depth=9, counter__ngram_range=(1, 2), counter__min_df=6, counter__max_df=0.91, counter__analyzer=char_wb, total=   9.4s\n",
      "[CV] rf__min_samples_split=6, rf__min_samples_leaf=49, rf__max_depth=15, counter__ngram_range=(2, 7), counter__min_df=9, counter__max_df=0.95, counter__analyzer=char \n",
      "[CV]  rf__min_samples_split=6, rf__min_samples_leaf=49, rf__max_depth=15, counter__ngram_range=(2, 7), counter__min_df=9, counter__max_df=0.95, counter__analyzer=char, total=  42.0s\n",
      "[CV] rf__min_samples_split=6, rf__min_samples_leaf=49, rf__max_depth=15, counter__ngram_range=(2, 7), counter__min_df=9, counter__max_df=0.95, counter__analyzer=char \n",
      "[CV]  rf__min_samples_split=6, rf__min_samples_leaf=49, rf__max_depth=15, counter__ngram_range=(2, 7), counter__min_df=9, counter__max_df=0.95, counter__analyzer=char, total=  43.8s\n"
     ]
    },
    {
     "name": "stderr",
     "output_type": "stream",
     "text": [
      "[Parallel(n_jobs=1)]: Done  16 out of  16 | elapsed: 29.5min finished\n"
     ]
    }
   ],
   "source": [
    "best = rand_search.fit(X_train, y_train)"
   ]
  },
  {
   "cell_type": "code",
   "execution_count": 50,
   "metadata": {},
   "outputs": [
    {
     "data": {
      "text/plain": [
       "0.9743589743589743"
      ]
     },
     "execution_count": 50,
     "metadata": {},
     "output_type": "execute_result"
    }
   ],
   "source": [
    "best.best_estimator_.score(X_val, y_val)"
   ]
  },
  {
   "cell_type": "code",
   "execution_count": 56,
   "metadata": {},
   "outputs": [
    {
     "data": {
      "text/plain": [
       "TfidfVectorizer(analyzer='word', binary=False, decode_error='strict',\n",
       "                dtype=<class 'numpy.float64'>, encoding='utf-8',\n",
       "                input='content', lowercase=True, max_df=0.82, max_features=None,\n",
       "                min_df=4, ngram_range=(1, 2), norm='l2', preprocessor=None,\n",
       "                smooth_idf=True, stop_words=None, strip_accents=None,\n",
       "                sublinear_tf=False, token_pattern='(?u)\\\\b\\\\w\\\\w+\\\\b',\n",
       "                tokenizer=<function tokenize at 0x00000166C3F0F288>,\n",
       "                use_idf=True, vocabulary=None)"
      ]
     },
     "execution_count": 56,
     "metadata": {},
     "output_type": "execute_result"
    }
   ],
   "source": [
    "best.best_estimator_[0]"
   ]
  },
  {
   "cell_type": "code",
   "execution_count": null,
   "metadata": {},
   "outputs": [],
   "source": [
    "import pickle \n",
    "filename = 'rf_model.sav'\n",
    "pickle.dump(best, open(filename, 'wb'))"
   ]
  },
  {
   "cell_type": "markdown",
   "metadata": {},
   "source": [
    "## Nearest Neighbors Classifier"
   ]
  },
  {
   "cell_type": "code",
   "execution_count": 18,
   "metadata": {},
   "outputs": [],
   "source": [
    "from sklearn.neighbors import KNeighborsClassifier"
   ]
  },
  {
   "cell_type": "code",
   "execution_count": 57,
   "metadata": {},
   "outputs": [],
   "source": [
    "counter = best.best_estimator_[0] #from previous randomized search"
   ]
  },
  {
   "cell_type": "code",
   "execution_count": 207,
   "metadata": {},
   "outputs": [],
   "source": [
    "counts_train = counter.fit_transform(X_train).todense()\n",
    "counts_val = counter.transform(X_val).todense()"
   ]
  },
  {
   "cell_type": "code",
   "execution_count": 58,
   "metadata": {},
   "outputs": [
    {
     "ename": "NameError",
     "evalue": "name 'KNeighborsClassifier' is not defined",
     "output_type": "error",
     "traceback": [
      "\u001b[1;31m---------------------------------------------------------------------------\u001b[0m",
      "\u001b[1;31mNameError\u001b[0m                                 Traceback (most recent call last)",
      "\u001b[1;32m<ipython-input-58-f8615cabac1e>\u001b[0m in \u001b[0;36m<module>\u001b[1;34m\u001b[0m\n\u001b[1;32m----> 1\u001b[1;33m \u001b[0mknn\u001b[0m \u001b[1;33m=\u001b[0m \u001b[0mKNeighborsClassifier\u001b[0m\u001b[1;33m(\u001b[0m\u001b[0malgorithm\u001b[0m\u001b[1;33m=\u001b[0m\u001b[1;34m'kd_tree'\u001b[0m\u001b[1;33m,\u001b[0m \u001b[0mn_neighbors\u001b[0m\u001b[1;33m=\u001b[0m\u001b[1;36m1\u001b[0m\u001b[1;33m)\u001b[0m\u001b[1;33m\u001b[0m\u001b[1;33m\u001b[0m\u001b[0m\n\u001b[0m\u001b[0;32m      2\u001b[0m \u001b[0mknn\u001b[0m\u001b[1;33m.\u001b[0m\u001b[0mfit\u001b[0m\u001b[1;33m(\u001b[0m\u001b[0mcounts_train\u001b[0m\u001b[1;33m,\u001b[0m \u001b[0my_train\u001b[0m\u001b[1;33m)\u001b[0m\u001b[1;33m\u001b[0m\u001b[1;33m\u001b[0m\u001b[0m\n",
      "\u001b[1;31mNameError\u001b[0m: name 'KNeighborsClassifier' is not defined"
     ]
    }
   ],
   "source": [
    "knn = KNeighborsClassifier(algorithm='kd_tree', n_neighbors=1)\n",
    "knn.fit(counts_train, y_train)"
   ]
  },
  {
   "cell_type": "code",
   "execution_count": 212,
   "metadata": {},
   "outputs": [
    {
     "data": {
      "text/plain": [
       "0.5493615696044846"
      ]
     },
     "execution_count": 212,
     "metadata": {},
     "output_type": "execute_result"
    }
   ],
   "source": [
    "from sklearn.metrics import accuracy_score\n",
    "y_pred = knn.predict(counts_val)\n",
    "accuracy_score(y_val, y_pred)"
   ]
  },
  {
   "cell_type": "code",
   "execution_count": 16,
   "metadata": {},
   "outputs": [],
   "source": [
    "from sklearn.metrics import roc_auc_score\n",
    "y_pred = best.best_estimator_.predict(X_val)"
   ]
  },
  {
   "cell_type": "code",
   "execution_count": null,
   "metadata": {},
   "outputs": [],
   "source": [
    "import pickle \n",
    "filename = 'knn_model.sav'\n",
    "pickle.dump(best, open(filename, 'wb'))"
   ]
  },
  {
   "cell_type": "markdown",
   "metadata": {},
   "source": [
    "# Word Embeddings with Spacy"
   ]
  },
  {
   "cell_type": "code",
   "execution_count": 83,
   "metadata": {},
   "outputs": [],
   "source": [
    "def get_doc_vectors(words):\n",
    "    # converts a list of words into their word vectors\n",
    "    tokens = tokenize(words)\n",
    "    string = ' '.join(tokens)\n",
    "    return nlp(string).vector"
   ]
  },
  {
   "cell_type": "code",
   "execution_count": 84,
   "metadata": {},
   "outputs": [
    {
     "data": {
      "text/plain": [
       "array([ 0.03295   ,  0.38696995, -0.27896032,  0.01172933, -0.14194854,\n",
       "       -0.003141  , -0.165784  , -0.01600266,  0.11609102,  2.9634    ,\n",
       "       -0.24353667,  0.09561033,  0.05638926,  0.29460767, -0.27181664,\n",
       "        0.06903766, -0.34141335,  0.8254733 , -0.25299898,  0.24724667,\n",
       "        0.13279666,  0.010783  ,  0.135452  ,  0.10959434,  0.09863899,\n",
       "        0.04335667,  0.04496   , -0.16768067,  0.15088034,  0.01015398,\n",
       "       -0.13885666,  0.15474233, -0.25317332, -0.09746367,  0.14349133,\n",
       "        0.16072391,  0.14422335, -0.10444767, -0.12391373,  0.00907667,\n",
       "        0.02071233,  0.00457766,  0.02433067,  0.14915867,  0.16236967,\n",
       "       -0.04752437, -0.19396   , -0.12991066,  0.12608325,  0.126854  ,\n",
       "       -0.09501532, -0.11639333, -0.02847833, -0.17158334,  0.27571   ,\n",
       "        0.02712333, -0.11324999, -0.28153667,  0.15989633,  0.05634667,\n",
       "       -0.02932333, -0.16344   , -0.068507  , -0.15853073,  0.06580467,\n",
       "        0.03637666, -0.21820533,  0.19327335,  0.03913667,  0.09188   ,\n",
       "       -0.146827  , -0.07474466,  0.01149333,  0.035533  ,  0.00918334,\n",
       "        0.31511   ,  0.217884  , -0.078482  ,  0.062456  ,  0.104067  ,\n",
       "        0.14793333,  0.19104   , -0.33108202, -0.16759335,  0.03179399,\n",
       "       -0.37248   , -0.08446333, -0.60959   ,  0.4157933 , -0.10861667,\n",
       "       -0.29438666,  0.03113767, -0.20158   ,  0.01809533, -0.14586934,\n",
       "       -0.00894867,  0.06970667, -0.03322833, -0.22419865, -0.08867333,\n",
       "        0.15684167, -0.07655666,  0.18187867, -0.04221134,  0.103908  ,\n",
       "       -0.91062003,  0.06244283,  0.11275999, -0.09345499,  0.20447166,\n",
       "        0.0451582 ,  0.08427   , -0.05106866, -0.36444998,  0.145613  ,\n",
       "       -0.04058   ,  0.067287  , -0.07099533, -0.06705666,  0.06967399,\n",
       "        0.10645334, -0.29215   ,  0.17193   , -0.14083266,  0.33910668,\n",
       "        0.061013  , -0.074449  , -0.220756  ,  0.20737433, -0.03424999,\n",
       "        0.12367   , -0.01600334, -0.075645  ,  0.00397433,  0.04707174,\n",
       "       -0.04285434, -0.07128666, -0.16758466, -0.192971  ,  0.165192  ,\n",
       "       -1.6644334 , -0.0812045 ,  0.015354  ,  0.04022333, -0.051176  ,\n",
       "       -0.1478203 , -0.19875999,  0.34451333, -0.16364066, -0.27884665,\n",
       "        0.09304767, -0.031566  ,  0.16493301,  0.012606  , -0.14501233,\n",
       "        0.03957457,  0.02957132, -0.33564004, -0.15733066, -0.21648668,\n",
       "       -0.07411667,  0.12116999,  0.06891733,  0.19962335,  0.21226633,\n",
       "       -0.00726067,  0.28844333, -0.14778   ,  0.18103401, -0.07613967,\n",
       "        0.014327  , -0.11127866,  0.20109068, -0.18449335,  0.16247667,\n",
       "        0.32327667, -0.0500134 ,  0.0332763 , -0.065107  , -0.18100066,\n",
       "        0.134917  , -0.01668   ,  0.045342  ,  0.06557   ,  0.00782113,\n",
       "        0.05140066, -0.18085669, -0.13964434,  0.140085  ,  0.07587134,\n",
       "        0.00332333,  0.09475335, -0.21519566,  0.01657367,  0.12023   ,\n",
       "        0.24376802, -0.023117  , -0.19126801,  0.097385  ,  0.29715666,\n",
       "       -0.24835901,  0.00405933, -0.09309184, -0.20602167,  0.06835932,\n",
       "        0.057566  ,  0.20945536, -0.02891467, -0.01524   ,  0.13048   ,\n",
       "       -0.07846   , -0.04041433,  0.00962367, -0.15342535,  0.28277668,\n",
       "       -0.09769333,  0.29062667,  0.0480987 , -0.09465667, -0.00926633,\n",
       "       -0.127019  , -0.079315  , -0.14692001,  0.159693  ,  0.04677567,\n",
       "       -0.02091367, -0.06645767,  0.09258533, -0.23558669,  0.01410667,\n",
       "       -0.26842666,  0.097364  ,  0.09444666,  0.24485667,  0.01366233,\n",
       "       -0.01099347,  0.04989133, -0.19162767, -0.27547666,  0.02616233,\n",
       "        0.17145766, -0.06997027,  0.11897233,  0.18760234,  0.121692  ,\n",
       "        0.09176572, -0.21168868, -0.04531566, -0.217369  ,  0.43097964,\n",
       "        0.08599333, -0.13389333, -0.09078   , -0.15207766,  0.04139333,\n",
       "        0.37669834, -0.12274633, -0.08686867,  0.00730853,  0.27034   ,\n",
       "       -0.01943333,  0.36318   ,  0.08801067,  0.07547966,  0.0631    ,\n",
       "       -0.12293733, -0.00774767,  0.10923   ,  0.17520666,  0.21178667,\n",
       "        0.11074901, -0.059184  , -0.07236999, -0.03026057, -0.084401  ,\n",
       "        0.18741268,  0.03493633,  0.164441  , -0.060475  ,  0.24469332,\n",
       "       -0.17641401, -0.148131  , -0.027529  , -0.10147796,  0.00466667,\n",
       "       -0.09724733,  0.14266723,  0.03062334,  0.12521833,  0.078422  ,\n",
       "       -0.26030168, -0.01736267, -0.222827  , -0.22358365,  0.09890866,\n",
       "        0.0850183 , -0.29235432,  0.17702234,  0.01504667, -0.23360169],\n",
       "      dtype=float32)"
      ]
     },
     "execution_count": 84,
     "metadata": {},
     "output_type": "execute_result"
    }
   ],
   "source": [
    "get_doc_vectors('If you should ever leave me, your life should still go on believe me!')"
   ]
  },
  {
   "cell_type": "code",
   "execution_count": 45,
   "metadata": {},
   "outputs": [
    {
     "data": {
      "text/html": [
       "<div>\n",
       "<style scoped>\n",
       "    .dataframe tbody tr th:only-of-type {\n",
       "        vertical-align: middle;\n",
       "    }\n",
       "\n",
       "    .dataframe tbody tr th {\n",
       "        vertical-align: top;\n",
       "    }\n",
       "\n",
       "    .dataframe thead th {\n",
       "        text-align: right;\n",
       "    }\n",
       "</style>\n",
       "<table border=\"1\" class=\"dataframe\">\n",
       "  <thead>\n",
       "    <tr style=\"text-align: right;\">\n",
       "      <th></th>\n",
       "      <th>index</th>\n",
       "      <th>extracts</th>\n",
       "      <th>author</th>\n",
       "    </tr>\n",
       "  </thead>\n",
       "  <tbody>\n",
       "    <tr>\n",
       "      <th>0</th>\n",
       "      <td>0</td>\n",
       "      <td>:| r?|| f • &gt;0* rl; 1=/!= If j      '   a?KJi...</td>\n",
       "      <td>chomsky</td>\n",
       "    </tr>\n",
       "    <tr>\n",
       "      <th>1</th>\n",
       "      <td>1</td>\n",
       "      <td></td>\n",
       "      <td>chomsky</td>\n",
       "    </tr>\n",
       "    <tr>\n",
       "      <th>2</th>\n",
       "      <td>2</td>\n",
       "      <td>.:        ^l|pp|!j£|!£K;£iS:x;£j!:B5inf!H:...</td>\n",
       "      <td>chomsky</td>\n",
       "    </tr>\n",
       "    <tr>\n",
       "      <th>3</th>\n",
       "      <td>3</td>\n",
       "      <td>there is no powerful outside force that can ca...</td>\n",
       "      <td>chomsky</td>\n",
       "    </tr>\n",
       "    <tr>\n",
       "      <th>4</th>\n",
       "      <td>4</td>\n",
       "      <td>by Maruyama, in his analysis of the “theory an...</td>\n",
       "      <td>chomsky</td>\n",
       "    </tr>\n",
       "  </tbody>\n",
       "</table>\n",
       "</div>"
      ],
      "text/plain": [
       "   index                                           extracts   author\n",
       "0      0   :| r?|| f • >0* rl; 1=/!= If j      '   a?KJi...  chomsky\n",
       "1      1                                                     chomsky\n",
       "2      2      .:        ^l|pp|!j£|!£K;£iS:x;£j!:B5inf!H:...  chomsky\n",
       "3      3  there is no powerful outside force that can ca...  chomsky\n",
       "4      4  by Maruyama, in his analysis of the “theory an...  chomsky"
      ]
     },
     "execution_count": 45,
     "metadata": {},
     "output_type": "execute_result"
    }
   ],
   "source": [
    "df_final.head()"
   ]
  },
  {
   "cell_type": "code",
   "execution_count": 60,
   "metadata": {},
   "outputs": [],
   "source": [
    "from sklearn.decomposition import PCA\n",
    "import pickle\n",
    "pca = PCA(2)\n",
    "word_vecs_2d = pca.fit_transform(get_doc_vectors(df_final['extracts']))"
   ]
  },
  {
   "cell_type": "code",
   "execution_count": null,
   "metadata": {},
   "outputs": [],
   "source": []
  },
  {
   "cell_type": "code",
   "execution_count": null,
   "metadata": {},
   "outputs": [],
   "source": [
    "word_vecs_train = get_doc_vectors(X_train)\n",
    "word_vecs_val = get_doc_vectors(X_val)\n",
    "word_vecs_test = get_doc_vectors(X_test)"
   ]
  },
  {
   "cell_type": "code",
   "execution_count": 65,
   "metadata": {},
   "outputs": [],
   "source": [
    "#Pickle 2D word vectors for use in dash app\n",
    "file = open(f'./models/word_vectors.pkl', 'wb')\n",
    "pickle.dump(word_vecs_2d, file)"
   ]
  },
  {
   "cell_type": "code",
   "execution_count": 72,
   "metadata": {},
   "outputs": [
    {
     "data": {
      "text/plain": [
       "[array([-2.9438e-01,  1.2145e+00, -6.9893e-01, -7.2192e-02, -9.7058e-02,\n",
       "         1.7576e-01, -2.4219e-01, -2.2113e-01,  3.7196e-01, -1.4523e-02,\n",
       "        -3.7705e-01, -2.0253e-01, -2.8155e-01,  1.6605e-02,  3.9833e-01,\n",
       "        -1.2631e-01, -4.4380e-01,  2.2938e+00, -3.9182e-01,  2.7265e-02,\n",
       "         1.5377e-01, -3.5372e-02, -3.1541e-01,  1.7574e-01,  6.0704e-01,\n",
       "         5.2926e-02, -4.6530e-01,  2.5853e-01, -9.8812e-02,  1.1605e-02,\n",
       "        -3.6801e-01, -3.0423e-02,  8.8122e-02, -9.3328e-02, -4.8047e-03,\n",
       "        -3.4587e-01, -5.1317e-01, -6.8212e-02, -6.2714e-01,  1.7692e-01,\n",
       "        -3.7108e-01, -8.6324e-01, -2.5097e-01,  4.9119e-01, -9.3501e-01,\n",
       "        -7.0040e-02, -1.8575e-01,  3.6302e-01,  2.5413e-01, -2.8973e-01,\n",
       "         9.8123e-02,  3.5030e-01, -2.9970e-01,  2.3193e-01, -1.4711e-01,\n",
       "        -1.5028e-01,  1.9276e-02, -5.5462e-01,  9.6845e-02,  1.5598e-01,\n",
       "        -2.1291e-01,  3.7283e-01, -2.6649e-01, -2.7698e-01, -2.4186e-01,\n",
       "         1.0619e-01,  5.6559e-01, -1.0429e-02,  2.4445e-03, -2.6569e-01,\n",
       "        -4.2570e-01, -1.6499e-01, -3.8705e-01,  1.8199e-01,  5.3206e-01,\n",
       "        -2.8319e-01, -4.1954e-01,  3.9000e-01, -6.4265e-01, -4.2482e-01,\n",
       "         2.2374e-01,  7.0227e-01,  3.0236e-02,  4.9291e-01, -5.5878e-01,\n",
       "        -2.7103e-01,  1.2140e+00, -7.5505e-01, -4.2486e-01,  4.5122e-01,\n",
       "        -1.0582e-02,  4.3295e-02, -2.1839e-02, -5.2422e-01,  3.2573e-01,\n",
       "        -1.5047e-01, -3.3806e-01,  1.4434e-01, -2.3220e-01, -5.0264e-01,\n",
       "         1.1656e-01,  2.3900e-01, -1.2373e-01, -3.6557e-01, -1.4408e-01,\n",
       "         4.5061e-01,  2.9269e-01, -5.6213e-01, -2.9664e-01, -6.4544e-02,\n",
       "        -1.2216e-01,  1.6566e-01,  3.9208e-01,  3.4195e-01, -6.5269e-02,\n",
       "         2.8104e-01,  2.6397e-02, -2.7306e-01,  3.4617e-01, -1.1197e-01,\n",
       "         1.6719e-02, -2.3222e-02,  5.9748e-01, -9.0260e-02, -5.7667e-01,\n",
       "         2.5674e-02,  7.0581e-01,  2.0754e-01, -2.1475e-01, -1.1128e-01,\n",
       "        -1.9727e-01,  5.2416e-01,  8.8498e-02, -1.2063e-01, -4.3920e-01,\n",
       "         1.4263e-01, -9.2367e-02, -6.8719e-02, -2.7661e-01, -3.4836e-01,\n",
       "        -9.1454e-01, -2.1388e-01,  2.5993e-01,  9.0283e-02,  3.7489e-01,\n",
       "        -3.1123e-01, -9.4128e-02,  5.7359e-01, -6.4403e-01, -9.7479e-02,\n",
       "        -3.7891e-02, -6.4738e-01,  3.0905e-01, -1.0577e-02, -3.7437e-02,\n",
       "        -6.0031e-01, -2.7321e-01,  3.7953e-01,  9.6819e-02,  3.8974e-01,\n",
       "         2.5801e-01, -4.5736e-01,  2.0005e-03,  8.3258e-02,  2.7534e-01,\n",
       "         2.9698e-01,  7.2363e-02,  1.2984e-01, -1.8250e-01,  2.6564e-02,\n",
       "        -5.5077e-02,  3.2874e-01, -2.0140e-01, -3.2148e-01,  2.3440e-01,\n",
       "        -1.6255e-01,  3.4155e-01, -2.3170e-01,  5.6673e-01,  2.3383e-01,\n",
       "         1.8308e-01,  2.0945e-01, -3.3082e-01, -3.7049e-01, -8.2388e-01,\n",
       "         7.5437e-01, -5.2453e-01,  5.5918e-01,  5.2729e-01,  3.7243e-01,\n",
       "         2.7636e-02,  1.1134e-01, -1.8061e-01, -1.4958e-01,  3.7782e-01,\n",
       "         9.5105e-02, -4.0937e-01, -9.5846e-01, -2.4699e-01, -1.4775e-01,\n",
       "         5.1048e-01,  8.7365e-02, -1.7818e-02,  4.0210e-01, -8.3098e-02,\n",
       "        -1.0747e-01,  1.8312e-01, -4.0504e-01,  3.2687e-01,  1.3352e-01,\n",
       "         1.2161e-01,  3.6803e-01, -2.5041e-01, -6.1226e-01,  4.5560e-01,\n",
       "        -1.1563e-01,  5.1554e-02,  1.2666e-01,  1.6206e-01,  6.2116e-01,\n",
       "         2.7052e-01, -4.5020e-01, -3.1962e-01,  9.0258e-03, -3.2576e-02,\n",
       "         9.9264e-01, -1.0524e-01, -1.1372e-01, -1.6371e-02, -2.3688e-02,\n",
       "        -4.0436e-01, -2.7059e-01, -2.3788e-01, -4.6333e-02, -3.4813e-01,\n",
       "        -9.1702e-02, -2.9276e-01, -3.0660e-01, -6.8273e-01,  8.2047e-02,\n",
       "         2.2729e-01,  4.7944e-01,  1.3379e-01,  1.8533e-01,  4.4285e-01,\n",
       "         4.9012e-01,  1.6589e-02, -6.3107e-02, -6.4637e-01, -4.8221e-01,\n",
       "         4.4086e-02,  6.2221e-03,  2.2123e-01, -4.7520e-01,  4.9396e-02,\n",
       "         5.6657e-01, -1.3337e-01, -2.6595e-01,  1.0633e-01,  1.9480e-01,\n",
       "         1.3801e-01,  5.7655e-01,  2.4790e-01,  1.7782e-01, -2.7914e-01,\n",
       "        -1.3268e-01, -2.7559e-02, -1.4733e-02, -3.4912e-02, -5.9919e-01,\n",
       "        -9.9283e-02,  2.7961e-01,  3.0623e-01,  1.2907e-01,  4.3340e-01,\n",
       "        -6.2676e-01,  1.0033e-01,  4.9147e-01,  1.6921e-01,  1.4522e-01,\n",
       "         1.4568e-01,  7.3412e-02,  5.5583e-02,  4.4196e-01,  2.3785e-01,\n",
       "        -8.0663e-01, -8.7762e-02, -3.9190e-02,  6.7780e-01,  7.8130e-01,\n",
       "         6.8428e-01, -4.7792e-01, -3.5977e-01, -4.3137e-01,  6.7536e-01,\n",
       "        -2.8962e-01, -4.4478e-03,  8.1675e-02, -1.2505e-01,  1.9485e-01],\n",
       "       dtype=float32),\n",
       " array([ 1.8733e-01,  4.0595e-01, -5.1174e-01, -5.5482e-01,  3.9716e-02,\n",
       "         1.2887e-01,  4.5137e-01, -5.9149e-01,  1.5591e-01,  1.5137e+00,\n",
       "        -8.7020e-01,  5.0672e-02,  1.5211e-01, -1.9183e-01,  1.1181e-01,\n",
       "         1.2131e-01, -2.7212e-01,  1.6203e+00, -2.4884e-01,  1.4060e-01,\n",
       "         3.3099e-01, -1.8061e-02,  1.5244e-01, -2.6943e-01, -2.7833e-01,\n",
       "        -5.2123e-02, -4.8149e-01, -5.1839e-01,  8.6262e-02,  3.0818e-02,\n",
       "        -2.1253e-01, -1.1378e-01, -2.2384e-01,  1.8262e-01, -3.4541e-01,\n",
       "         8.2611e-02,  1.0024e-01, -7.9550e-02, -8.1721e-01,  6.5621e-03,\n",
       "         8.0134e-02, -3.9976e-01, -6.3131e-02,  3.2260e-01, -3.1625e-02,\n",
       "         4.3056e-01, -2.7270e-01, -7.6020e-02,  1.0293e-01, -8.8653e-02,\n",
       "        -2.9087e-01, -4.7214e-02,  4.6036e-02, -1.7788e-02,  6.4990e-02,\n",
       "         8.8451e-02, -3.1574e-01, -5.8522e-01,  2.2295e-01, -5.2785e-02,\n",
       "        -5.5981e-01, -3.9580e-01, -7.9849e-02, -1.0933e-02, -4.1722e-02,\n",
       "        -5.5576e-01,  8.8707e-02,  1.3710e-01, -2.9873e-03, -2.6256e-02,\n",
       "         7.7330e-02,  3.9199e-01,  3.4507e-01, -8.0130e-02,  3.3451e-01,\n",
       "         2.7063e-01, -2.4544e-02,  7.2576e-02, -1.8120e-01,  2.3693e-01,\n",
       "         3.9977e-01,  4.5012e-01,  2.7179e-02,  2.7400e-01,  1.4791e-01,\n",
       "        -5.8324e-03,  9.5910e-01, -1.0129e+00,  2.0699e-01,  1.8237e-01,\n",
       "        -2.5234e-01, -2.6261e-01, -3.4799e-01, -2.4051e-02,  4.4470e-01,\n",
       "         5.9226e-02,  4.5561e-01,  1.9700e-01, -4.8327e-01,  8.9523e-02,\n",
       "        -2.2373e-01, -1.5654e-01,  2.1578e-01,  1.1673e-01,  8.2006e-02,\n",
       "        -8.0735e-01,  2.3903e-01, -5.1304e-01, -3.3888e-01, -3.1499e-01,\n",
       "        -1.7272e-01, -6.7020e-01,  2.7096e-01, -4.3241e-01,  4.3103e-02,\n",
       "         2.1233e-02,  1.3350e-02, -6.3938e-02, -2.4957e-01, -2.4938e-01,\n",
       "         3.4812e-01, -7.1321e-02,  2.3375e-01, -9.5384e-02,  5.2488e-01,\n",
       "         6.8175e-01, -1.0214e-01, -1.4914e-01, -7.5697e-02,  1.7248e-01,\n",
       "         2.5440e-01,  1.5760e-01, -5.9125e-01,  2.4300e-01,  6.3962e-01,\n",
       "        -9.3280e-02, -2.7914e-01, -6.6262e-02, -6.7170e-02, -4.0929e-01,\n",
       "        -3.0300e+00,  1.8250e-01,  2.0113e-01,  6.0628e-02, -2.4769e-01,\n",
       "         5.5324e-02, -4.9106e-01,  3.1544e-01, -3.4231e-01, -6.3766e-01,\n",
       "        -3.6129e-01, -5.9029e-02,  1.5510e-01,  4.4577e-02,  2.3572e-01,\n",
       "        -1.7095e-01, -2.2749e-01, -2.3184e-02,  2.3868e-01,  2.8170e-02,\n",
       "         4.2965e-01, -1.2458e-01, -3.6972e-02,  2.0061e-01, -3.1405e-01,\n",
       "        -8.5287e-02, -3.3496e-01, -9.7047e-02, -1.4388e-01,  1.1147e-01,\n",
       "        -4.5232e-01, -2.4217e-01, -1.8245e-01, -6.7292e-01,  2.1933e-02,\n",
       "        -5.4816e-02, -4.6508e-01,  4.7767e-01, -2.4752e-01, -1.5790e-01,\n",
       "         1.1817e-01,  5.6851e-02, -4.9151e-01,  1.5496e-01,  1.6425e-02,\n",
       "         4.1650e-02, -3.4990e-01, -1.5979e-01,  3.9705e-01,  2.2963e-01,\n",
       "         2.4688e-01,  1.9567e-02, -2.8802e-01, -6.9983e-01,  3.2744e-01,\n",
       "         1.0833e-01,  2.4945e-01, -7.8653e-01, -6.1379e-02, -3.7359e-01,\n",
       "        -1.1603e-01, -2.4950e-01,  1.0161e-01,  3.3994e-02,  1.5650e-01,\n",
       "         2.1344e-01, -1.1094e-01, -5.7687e-03,  1.7869e-01, -1.0127e-01,\n",
       "        -1.6891e-02,  3.0001e-01, -3.4116e-01, -3.2390e-02,  4.2514e-02,\n",
       "         1.1850e-01, -1.8337e-01, -6.2865e-01, -2.8021e-01,  4.2351e-01,\n",
       "         1.1277e-01,  1.2121e-03,  1.5710e-01, -3.6321e-01, -4.9251e-01,\n",
       "         1.1653e-01,  2.4024e-01,  1.7712e-01,  6.8700e-02, -4.4137e-01,\n",
       "        -2.9877e-01, -1.2071e-02,  2.8325e-01,  1.0668e-01, -1.8859e-01,\n",
       "        -4.1345e-01, -3.4090e-01,  4.7236e-02, -3.8309e-01,  4.3572e-01,\n",
       "         2.4505e-01,  2.7337e-01, -7.3038e-02,  4.2514e-01, -3.2455e-02,\n",
       "        -3.5211e-01,  4.5691e-01,  1.9433e-01, -1.5230e-01,  4.2675e-01,\n",
       "         2.8795e-01, -5.5969e-01, -1.3031e-01,  8.9844e-02,  4.2605e-01,\n",
       "        -1.9632e-01, -7.1989e-02, -8.0189e-02, -3.0425e-01, -4.6190e-01,\n",
       "         2.8178e-01, -9.9872e-02,  3.5097e-01,  1.6123e-01, -3.6548e-02,\n",
       "        -3.6739e-01, -1.9819e-02,  3.2130e-01,  1.7479e-01,  2.5175e-01,\n",
       "        -7.6439e-03, -9.3786e-02, -3.7852e-01,  4.3725e-01,  2.1288e-01,\n",
       "         2.5096e-01, -1.9613e-01, -2.8865e-01, -5.6726e-03,  4.2795e-01,\n",
       "         2.0625e-01, -3.7701e-02, -1.2200e-01, -7.9253e-02, -1.0290e-01,\n",
       "         1.0558e-02,  4.9880e-01,  2.5382e-01,  1.5526e-01,  1.7951e-03,\n",
       "         1.1633e-01,  7.9300e-02, -3.9142e-01, -3.2483e-01,  6.3451e-01,\n",
       "        -1.8910e-01,  5.4050e-02,  1.6495e-01,  1.8757e-01,  5.3874e-01],\n",
       "       dtype=float32)]"
      ]
     },
     "execution_count": 72,
     "metadata": {},
     "output_type": "execute_result"
    }
   ],
   "source": [
    "get_doc_vectors('hi')"
   ]
  },
  {
   "cell_type": "code",
   "execution_count": 70,
   "metadata": {},
   "outputs": [
    {
     "ename": "ValueError",
     "evalue": "Expected 2D array, got 1D array instead:\narray=[].\nReshape your data either using array.reshape(-1, 1) if your data has a single feature or array.reshape(1, -1) if it contains a single sample.",
     "output_type": "error",
     "traceback": [
      "\u001b[1;31m----------------------------------------------------------------\u001b[0m",
      "\u001b[1;31mValueError\u001b[0m                     Traceback (most recent call last)",
      "\u001b[1;32m<ipython-input-70-dcc101275509>\u001b[0m in \u001b[0;36m<module>\u001b[1;34m\u001b[0m\n\u001b[0;32m      5\u001b[0m     \u001b[0mpipeline\u001b[0m \u001b[1;33m=\u001b[0m \u001b[0mmake_pipeline\u001b[0m\u001b[1;33m(\u001b[0m\u001b[0mpca\u001b[0m\u001b[1;33m,\u001b[0m \u001b[0mknn\u001b[0m\u001b[1;33m)\u001b[0m\u001b[1;33m\u001b[0m\u001b[1;33m\u001b[0m\u001b[0m\n\u001b[0;32m      6\u001b[0m     \u001b[0mpipeline\u001b[0m\u001b[1;33m.\u001b[0m\u001b[0mfit\u001b[0m\u001b[1;33m(\u001b[0m\u001b[0mword_vecs_train\u001b[0m\u001b[1;33m,\u001b[0m \u001b[0my_train\u001b[0m\u001b[1;33m)\u001b[0m\u001b[1;33m\u001b[0m\u001b[1;33m\u001b[0m\u001b[0m\n\u001b[1;32m----> 7\u001b[1;33m     \u001b[0mprint\u001b[0m\u001b[1;33m(\u001b[0m\u001b[0mpipeline\u001b[0m\u001b[1;33m.\u001b[0m\u001b[0mscore\u001b[0m\u001b[1;33m(\u001b[0m\u001b[0mword_vecs_test\u001b[0m\u001b[1;33m,\u001b[0m \u001b[0my_test\u001b[0m\u001b[1;33m)\u001b[0m\u001b[1;33m,\u001b[0m \u001b[0mpipeline\u001b[0m\u001b[1;33m.\u001b[0m\u001b[0mpredict_proba\u001b[0m\u001b[1;33m(\u001b[0m\u001b[0mget_doc_vectors\u001b[0m\u001b[1;33m(\u001b[0m\u001b[1;34m''\u001b[0m\u001b[1;33m)\u001b[0m\u001b[1;33m)\u001b[0m\u001b[1;33m)\u001b[0m\u001b[1;33m\u001b[0m\u001b[1;33m\u001b[0m\u001b[0m\n\u001b[0m\u001b[0;32m      8\u001b[0m \u001b[1;31m#     file = open(f'./models/model_k{k}.pkl', 'wb')\u001b[0m\u001b[1;33m\u001b[0m\u001b[1;33m\u001b[0m\u001b[1;33m\u001b[0m\u001b[0m\n\u001b[0;32m      9\u001b[0m \u001b[1;31m#     pickle.dump(pipeline, file)\u001b[0m\u001b[1;33m\u001b[0m\u001b[1;33m\u001b[0m\u001b[1;33m\u001b[0m\u001b[0m\n",
      "\u001b[1;32m~\\.virtualenvs\\Predict-the-Philosopher-TRlx9bJ9\\lib\\site-packages\\sklearn\\utils\\metaestimators.py\u001b[0m in \u001b[0;36m<lambda>\u001b[1;34m(*args, **kwargs)\u001b[0m\n\u001b[0;32m    114\u001b[0m \u001b[1;33m\u001b[0m\u001b[0m\n\u001b[0;32m    115\u001b[0m         \u001b[1;31m# lambda, but not partial, allows help() to work with update_wrapper\u001b[0m\u001b[1;33m\u001b[0m\u001b[1;33m\u001b[0m\u001b[1;33m\u001b[0m\u001b[0m\n\u001b[1;32m--> 116\u001b[1;33m         \u001b[0mout\u001b[0m \u001b[1;33m=\u001b[0m \u001b[1;32mlambda\u001b[0m \u001b[1;33m*\u001b[0m\u001b[0margs\u001b[0m\u001b[1;33m,\u001b[0m \u001b[1;33m**\u001b[0m\u001b[0mkwargs\u001b[0m\u001b[1;33m:\u001b[0m \u001b[0mself\u001b[0m\u001b[1;33m.\u001b[0m\u001b[0mfn\u001b[0m\u001b[1;33m(\u001b[0m\u001b[0mobj\u001b[0m\u001b[1;33m,\u001b[0m \u001b[1;33m*\u001b[0m\u001b[0margs\u001b[0m\u001b[1;33m,\u001b[0m \u001b[1;33m**\u001b[0m\u001b[0mkwargs\u001b[0m\u001b[1;33m)\u001b[0m\u001b[1;33m\u001b[0m\u001b[1;33m\u001b[0m\u001b[0m\n\u001b[0m\u001b[0;32m    117\u001b[0m         \u001b[1;31m# update the docstring of the returned function\u001b[0m\u001b[1;33m\u001b[0m\u001b[1;33m\u001b[0m\u001b[1;33m\u001b[0m\u001b[0m\n\u001b[0;32m    118\u001b[0m         \u001b[0mupdate_wrapper\u001b[0m\u001b[1;33m(\u001b[0m\u001b[0mout\u001b[0m\u001b[1;33m,\u001b[0m \u001b[0mself\u001b[0m\u001b[1;33m.\u001b[0m\u001b[0mfn\u001b[0m\u001b[1;33m)\u001b[0m\u001b[1;33m\u001b[0m\u001b[1;33m\u001b[0m\u001b[0m\n",
      "\u001b[1;32m~\\.virtualenvs\\Predict-the-Philosopher-TRlx9bJ9\\lib\\site-packages\\sklearn\\pipeline.py\u001b[0m in \u001b[0;36mpredict_proba\u001b[1;34m(self, X)\u001b[0m\n\u001b[0;32m    469\u001b[0m         \u001b[0mXt\u001b[0m \u001b[1;33m=\u001b[0m \u001b[0mX\u001b[0m\u001b[1;33m\u001b[0m\u001b[1;33m\u001b[0m\u001b[0m\n\u001b[0;32m    470\u001b[0m         \u001b[1;32mfor\u001b[0m \u001b[0m_\u001b[0m\u001b[1;33m,\u001b[0m \u001b[0mname\u001b[0m\u001b[1;33m,\u001b[0m \u001b[0mtransform\u001b[0m \u001b[1;32min\u001b[0m \u001b[0mself\u001b[0m\u001b[1;33m.\u001b[0m\u001b[0m_iter\u001b[0m\u001b[1;33m(\u001b[0m\u001b[0mwith_final\u001b[0m\u001b[1;33m=\u001b[0m\u001b[1;32mFalse\u001b[0m\u001b[1;33m)\u001b[0m\u001b[1;33m:\u001b[0m\u001b[1;33m\u001b[0m\u001b[1;33m\u001b[0m\u001b[0m\n\u001b[1;32m--> 471\u001b[1;33m             \u001b[0mXt\u001b[0m \u001b[1;33m=\u001b[0m \u001b[0mtransform\u001b[0m\u001b[1;33m.\u001b[0m\u001b[0mtransform\u001b[0m\u001b[1;33m(\u001b[0m\u001b[0mXt\u001b[0m\u001b[1;33m)\u001b[0m\u001b[1;33m\u001b[0m\u001b[1;33m\u001b[0m\u001b[0m\n\u001b[0m\u001b[0;32m    472\u001b[0m         \u001b[1;32mreturn\u001b[0m \u001b[0mself\u001b[0m\u001b[1;33m.\u001b[0m\u001b[0msteps\u001b[0m\u001b[1;33m[\u001b[0m\u001b[1;33m-\u001b[0m\u001b[1;36m1\u001b[0m\u001b[1;33m]\u001b[0m\u001b[1;33m[\u001b[0m\u001b[1;33m-\u001b[0m\u001b[1;36m1\u001b[0m\u001b[1;33m]\u001b[0m\u001b[1;33m.\u001b[0m\u001b[0mpredict_proba\u001b[0m\u001b[1;33m(\u001b[0m\u001b[0mXt\u001b[0m\u001b[1;33m)\u001b[0m\u001b[1;33m\u001b[0m\u001b[1;33m\u001b[0m\u001b[0m\n\u001b[0;32m    473\u001b[0m \u001b[1;33m\u001b[0m\u001b[0m\n",
      "\u001b[1;32m~\\.virtualenvs\\Predict-the-Philosopher-TRlx9bJ9\\lib\\site-packages\\sklearn\\decomposition\\_base.py\u001b[0m in \u001b[0;36mtransform\u001b[1;34m(self, X)\u001b[0m\n\u001b[0;32m    125\u001b[0m         \u001b[0mcheck_is_fitted\u001b[0m\u001b[1;33m(\u001b[0m\u001b[0mself\u001b[0m\u001b[1;33m)\u001b[0m\u001b[1;33m\u001b[0m\u001b[1;33m\u001b[0m\u001b[0m\n\u001b[0;32m    126\u001b[0m \u001b[1;33m\u001b[0m\u001b[0m\n\u001b[1;32m--> 127\u001b[1;33m         \u001b[0mX\u001b[0m \u001b[1;33m=\u001b[0m \u001b[0mcheck_array\u001b[0m\u001b[1;33m(\u001b[0m\u001b[0mX\u001b[0m\u001b[1;33m)\u001b[0m\u001b[1;33m\u001b[0m\u001b[1;33m\u001b[0m\u001b[0m\n\u001b[0m\u001b[0;32m    128\u001b[0m         \u001b[1;32mif\u001b[0m \u001b[0mself\u001b[0m\u001b[1;33m.\u001b[0m\u001b[0mmean_\u001b[0m \u001b[1;32mis\u001b[0m \u001b[1;32mnot\u001b[0m \u001b[1;32mNone\u001b[0m\u001b[1;33m:\u001b[0m\u001b[1;33m\u001b[0m\u001b[1;33m\u001b[0m\u001b[0m\n\u001b[0;32m    129\u001b[0m             \u001b[0mX\u001b[0m \u001b[1;33m=\u001b[0m \u001b[0mX\u001b[0m \u001b[1;33m-\u001b[0m \u001b[0mself\u001b[0m\u001b[1;33m.\u001b[0m\u001b[0mmean_\u001b[0m\u001b[1;33m\u001b[0m\u001b[1;33m\u001b[0m\u001b[0m\n",
      "\u001b[1;32m~\\.virtualenvs\\Predict-the-Philosopher-TRlx9bJ9\\lib\\site-packages\\sklearn\\utils\\validation.py\u001b[0m in \u001b[0;36mcheck_array\u001b[1;34m(array, accept_sparse, accept_large_sparse, dtype, order, copy, force_all_finite, ensure_2d, allow_nd, ensure_min_samples, ensure_min_features, warn_on_dtype, estimator)\u001b[0m\n\u001b[0;32m    554\u001b[0m                     \u001b[1;34m\"Reshape your data either using array.reshape(-1, 1) if \"\u001b[0m\u001b[1;33m\u001b[0m\u001b[1;33m\u001b[0m\u001b[0m\n\u001b[0;32m    555\u001b[0m                     \u001b[1;34m\"your data has a single feature or array.reshape(1, -1) \"\u001b[0m\u001b[1;33m\u001b[0m\u001b[1;33m\u001b[0m\u001b[0m\n\u001b[1;32m--> 556\u001b[1;33m                     \"if it contains a single sample.\".format(array))\n\u001b[0m\u001b[0;32m    557\u001b[0m \u001b[1;33m\u001b[0m\u001b[0m\n\u001b[0;32m    558\u001b[0m         \u001b[1;31m# in the future np.flexible dtypes will be handled like object dtypes\u001b[0m\u001b[1;33m\u001b[0m\u001b[1;33m\u001b[0m\u001b[1;33m\u001b[0m\u001b[0m\n",
      "\u001b[1;31mValueError\u001b[0m: Expected 2D array, got 1D array instead:\narray=[].\nReshape your data either using array.reshape(-1, 1) if your data has a single feature or array.reshape(1, -1) if it contains a single sample."
     ]
    }
   ],
   "source": [
    "from sklearn.pipeline import make_pipeline\n",
    "for k in range(5, 25, 5):\n",
    "    pca = PCA(2)\n",
    "    knn = KNeighborsClassifier(algorithm='kd_tree', n_neighbors = k, weights='distance', metric='euclidean')\n",
    "    pipeline = make_pipeline(pca, knn)\n",
    "    pipeline.fit(word_vecs_train, y_train)\n",
    "    print(pipeline.score(word_vecs_test, y_test), pipeline.predict_proba(get_doc_vectors('')))\n",
    "#     file = open(f'./models/model_k{k}.pkl', 'wb')\n",
    "#     pickle.dump(pipeline, file)\n",
    "#     file.close()"
   ]
  },
  {
   "cell_type": "code",
   "execution_count": 32,
   "metadata": {},
   "outputs": [
    {
     "name": "stdout",
     "output_type": "stream",
     "text": [
      "0.9444444444444444\n",
      "0.9444444444444444\n",
      "0.9351851851851852\n",
      "0.9444444444444444\n",
      "0.9351851851851852\n"
     ]
    }
   ],
   "source": [
    "for k in range(7, 12):\n",
    "    pca = PCA(2)\n",
    "    knn = KNeighborsClassifier(algorithm='kd_tree', n_neighbors = k, weights='distance', metric='euclidean')\n",
    "    pipeline = make_pipeline(pca, knn)\n",
    "    pipeline.fit(word_vecs_train, y_train)\n",
    "    print(pipeline.score(word_vecs_test, y_test))"
   ]
  },
  {
   "cell_type": "code",
   "execution_count": 87,
   "metadata": {},
   "outputs": [
    {
     "data": {
      "text/plain": [
       "'The author most likely to have written your sample, \"Noam Chomsky was a great author\", is foucault.'"
      ]
     },
     "execution_count": 87,
     "metadata": {},
     "output_type": "execute_result"
    }
   ],
   "source": [
    "def display_results(text, k):\n",
    "    file = open(f'./models/model_k{k}.pkl', 'rb')\n",
    "    model = pickle.load(file)\n",
    "    file.close()\n",
    "    vector = get_doc_vectors(text)\n",
    "    new_obs = vector\n",
    "    pred = model.predict(new_obs)[0]\n",
    "    return f'The author most likely to have written your sample, \"{text}\", is {pred}.'\n",
    "\n",
    "display_results('Noam Chomsky was a great author', 5)"
   ]
  },
  {
   "cell_type": "code",
   "execution_count": null,
   "metadata": {},
   "outputs": [],
   "source": []
  },
  {
   "cell_type": "code",
   "execution_count": 61,
   "metadata": {},
   "outputs": [
    {
     "data": {
      "text/plain": [
       "<matplotlib.collections.PathCollection at 0x1aded7e9508>"
      ]
     },
     "execution_count": 61,
     "metadata": {},
     "output_type": "execute_result"
    },
    {
     "data": {
      "image/png": "[encoded data removed]",
      "text/plain": [
       "<Figure size 432x288 with 1 Axes>"
      ]
     },
     "metadata": {
      "needs_background": "light"
     },
     "output_type": "display_data"
    }
   ],
   "source": [
    "plt.scatter(x=word_vecs_2d[:, 0],y=word_vecs_2d[:,1])"
   ]
  },
  {
   "cell_type": "code",
   "execution_count": 64,
   "metadata": {},
   "outputs": [
    {
     "data": {
      "text/plain": [
       "Text(0.5, 1.0, '')"
      ]
     },
     "execution_count": 64,
     "metadata": {},
     "output_type": "execute_result"
    },
    {
     "data": {
      "image/png": "[encoded data removed]",
      "text/plain": [
       "<Figure size 720x720 with 1 Axes>"
      ]
     },
     "metadata": {
      "needs_background": "light"
     },
     "output_type": "display_data"
    }
   ],
   "source": [
    "import seaborn as sns\n",
    "import matplotlib.pyplot as plt\n",
    "plt.figure(figsize=(10, 10))\n",
    "sns.scatterplot(word_vecs_2d[:,0], word_vecs_2d[:,1], hue=df_final['author'])\n",
    "plt.title('')"
   ]
  },
  {
   "cell_type": "markdown",
   "metadata": {},
   "source": [
    "# Word Embeddings w/ Gensim"
   ]
  },
  {
   "cell_type": "code",
   "execution_count": null,
   "metadata": {},
   "outputs": [],
   "source": [
    "import gensim\n",
    "from gensim import corpora\n",
    "from gensim.utils import simple_preprocess"
   ]
  },
  {
   "cell_type": "code",
   "execution_count": 137,
   "metadata": {},
   "outputs": [],
   "source": [
    "def read_corpus(series, tokens_only=False):\n",
    "    for i, doc in enumerate(series):\n",
    "        tokens = gensim.utils.simple_preprocess(doc)\n",
    "        print(tokens)\n",
    "        if tokens_only:\n",
    "            yield tokens\n",
    "        else:\n",
    "            # For training data, add tags\n",
    "            yield gensim.models.doc2vec.TaggedDocument(tokens, [i])"
   ]
  },
  {
   "cell_type": "code",
   "execution_count": 149,
   "metadata": {},
   "outputs": [
    {
     "name": "stdout",
     "output_type": "stream",
     "text": [
      "['rl', 'if', 'kjii', 'jp', 'kwsg', 'ffc', 'fffjil', 'ri', 'hscif', 'piini', 'pqb', 'ffi', 'ipil', 'igij', 'ssbhlil', 'ps', 'im', 'iilb', 'ii', 'msjr', 'tashi', 'nst', 'liii', 'sf', 'ic', 'tta', 'ksp', 'mr', 'izlv', 'siirhki', 'hhh', 'fjfi', 'imimmiumnmum', 'mm', 'ar', 'kttaskni', 'ks', 'ssi', 'sr', 'ziubuss', 'fmhlll', 'fiiblii', 'hi', 'hr', 'hhi', 'rwm', 'tret', 'sks', 'nh', 'ii']\n"
     ]
    },
    {
     "data": {
      "text/plain": [
       "TaggedDocument(words=['rl', 'if', 'kjii', 'jp', 'kwsg', 'ffc', 'fffjil', 'ri', 'hscif', 'piini', 'pqb', 'ffi', 'ipil', 'igij', 'ssbhlil', 'ps', 'im', 'iilb', 'ii', 'msjr', 'tashi', 'nst', 'liii', 'sf', 'ic', 'tta', 'ksp', 'mr', 'izlv', 'siirhki', 'hhh', 'fjfi', 'imimmiumnmum', 'mm', 'ar', 'kttaskni', 'ks', 'ssi', 'sr', 'ziubuss', 'fmhlll', 'fiiblii', 'hi', 'hr', 'hhi', 'rwm', 'tret', 'sks', 'nh', 'ii'], tags=[0])"
      ]
     },
     "execution_count": 149,
     "metadata": {},
     "output_type": "execute_result"
    }
   ],
   "source": [
    "next(read_corpus(df_final['extracts']))"
   ]
  },
  {
   "cell_type": "code",
   "execution_count": null,
   "metadata": {},
   "outputs": [],
   "source": []
  },
  {
   "cell_type": "code",
   "execution_count": null,
   "metadata": {},
   "outputs": [],
   "source": []
  }
 ],
 "metadata": {
  "colab": {
   "name": "Foucault vs Chomsky.ipynb",
   "provenance": []
  },
  "kernelspec": {
   "display_name": "my-virtualenv-name",
   "language": "python",
   "name": "my-virtualenv-name"
  },
  "language_info": {
   "codemirror_mode": {
    "name": "ipython",
    "version": 3
   },
   "file_extension": ".py",
   "mimetype": "text/x-python",
   "name": "python",
   "nbconvert_exporter": "python",
   "pygments_lexer": "ipython3",
   "version": "3.7.5"
  }
 },
 "nbformat": 4,
 "nbformat_minor": 4
}
