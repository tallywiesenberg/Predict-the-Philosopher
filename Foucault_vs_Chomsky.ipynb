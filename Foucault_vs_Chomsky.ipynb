{
 "cells": [
  {
   "cell_type": "markdown",
   "metadata": {},
   "source": [
    "# Preprocessing"
   ]
  },
  {
   "cell_type": "code",
   "execution_count": 140,
   "metadata": {},
   "outputs": [],
   "source": [
    "import numpy as np\n",
    "import spacy\n",
    "import gensim\n",
    "import os\n",
    "import re\n",
    "from gensim.utils import simple_preprocess, lemmatize\n",
    "from gensim.parsing.preprocessing import STOPWORDS\n",
    "from gensim import corpora\n",
    "\n",
    "from gensim.models.ldamulticore import LdaMulticore\n",
    "\n",
    "import pandas as pd\n",
    "nlp = spacy.load(\"en_core_web_lg\")"
   ]
  },
  {
   "cell_type": "code",
   "execution_count": 141,
   "metadata": {
    "colab": {
     "base_uri": "https://localhost:8080/",
     "height": 229
    },
    "colab_type": "code",
    "id": "aLdX4J785gXQ",
    "outputId": "1edf7396-9e94-42e1-fa6b-04832907fa2b"
   },
   "outputs": [],
   "source": [
    "from bs4 import BeautifulSoup\n",
    "from os import mkdir\n",
    "import requests\n",
    "#Dicitionary used to access full book text in HTML format\n",
    "urls = {'foucault_madness_and_civ':'https://archive.org/stream/Michel_Foucault_Madness_And_Civilization/Michel%20Foucault%2C%20Richard%20Howard%20%28transl.%29%20-%20Madness%20and%20Civilization_%20A%20History%20of%20Insanity%20in%20the%20Age%20of%20Reason%20%282013%2C%20Vintage%29_djvu.txt',\n",
    "        'foucault_discipline_and_punish': 'https://archive.org/stream/MichelFoucaultDisciplineAndPunish/Michel%20Foucault%20-%20Discipline%20and%20Punish_djvu.txt',\n",
    "        'foucault_history_of_sexuality':'https://archive.org/stream/TheHistoryOfSexualityVol13/The-History-Of-Sexuality-Vol-1-3_djvu.txt',\n",
    "        'chomsky_media_control': 'https://archive.org/stream/media_Noam_Chomsky-Media_Control/Noam_Chomsky-Media_Control_djvu.txt',\n",
    "        'chomsky_american_power': 'https://archive.org/stream/AmericanPowerAndTheNewMandarins_201805/American%20Power%20And%20The%20New%20Mandarins_djvu.txt',\n",
    "        'chomsky_manufacturing_consent': 'https://archive.org/stream/revhosatx14/%5BEdward_S._Herman%2C_Noam_Chomsky%5D_Manufacturing_Con%28b-ok.org%29_djvu.txt'}"
   ]
  },
  {
   "cell_type": "code",
   "execution_count": 164,
   "metadata": {},
   "outputs": [],
   "source": [
    "def file_books(title, link):\n",
    "    '''Create directories for book from title and link'''\n",
    "    #Access HTML webpage on Internet Archive\n",
    "    r = requests.get(link)\n",
    "    data = r.text\n",
    "    soup = BeautifulSoup(data)\n",
    "    #Full text is in <pre> part of HTML doc\n",
    "    book = soup.pre.string\n",
    "    #Write book as text file, save file\n",
    "    with open(f'./data/{title}.txt', 'w', encoding='utf-8') as book_file:\n",
    "        book_file.write(book)\n",
    "        #Make a folder for each book\n",
    "        mkdir(f'./data/{title}_extracts')\n",
    "def split_book(title, n_lines=50):\n",
    "    '''Split a text file based on a number of lines, book title'''\n",
    "    #Find file path based on title\n",
    "    filepath = f'./data/{title}.txt'\n",
    "    #Extract directory and filename from file path\n",
    "    path, filename = os.path.split(filepath)\n",
    "    #Change path to book's directory\n",
    "    path += f'/{title}_extracts'\n",
    "    # filename.split('.') would not work for filenames with more than one .\n",
    "    basename, ext = os.path.splitext(filename)\n",
    "    #open input file\n",
    "    with open(filepath, 'r', encoding='utf-8') as book_file:\n",
    "        try:\n",
    "            #open the first output(extract) file\n",
    "            extract_file = open(os.path.join(path, '{}_{}{}'.format(basename, 0, ext)), 'w', encoding='utf-8')\n",
    "            #Loop over all lines of input file, number them\n",
    "            for i, line in enumerate(book_file):\n",
    "                #Close extract file and open a new one\n",
    "                #When the line number % desired n_lines is 0\n",
    "                if i % n_lines == 0:\n",
    "                    extract_file.close()\n",
    "                    #Open the next output file to write the next extract\n",
    "                    extract_file = open(os.path.join(path, '{}_{}{}'.format(basename, i/100, ext)), 'w', encoding='utf-8')\n",
    "                #write the line to extract file\n",
    "                extract_file.write(line)\n",
    "        finally:\n",
    "            #close last output file\n",
    "            extract_file.close()"
   ]
  },
  {
   "cell_type": "code",
   "execution_count": 165,
   "metadata": {},
   "outputs": [],
   "source": [
    "if not os.path.isdir('./data'):  \n",
    "    os.mkdir('./data')\n",
    "for title, link in urls.items():\n",
    "    if not os.path.isdir(f'./data/{title}_extracts'):\n",
    "        file_books(title, link)\n",
    "        split_book(title)"
   ]
  },
  {
   "cell_type": "code",
   "execution_count": 166,
   "metadata": {},
   "outputs": [],
   "source": [
    "def tokenize(doc):\n",
    "    '''Tokenizer with lemmatizer'''\n",
    "    return [token.lemma_ for token in nlp(doc) if (token.is_stop == False) &\n",
    "            (token.is_punct == False) & (token.is_space == False) &\n",
    "            (token.is_upper == False) & (token.pos_ != 'PROPN')]\n",
    "def gather_data(path_to_data):\n",
    "    path = f'./data/{path_to_data}'\n",
    "    data = {'extracts': [], 'author': []}\n",
    "    #For file at the given path\n",
    "    for file in os.listdir(path):\n",
    "        #If the directory is not a folder\n",
    "        if os.path.isdir(file) == False:\n",
    "            #If the file type is .txt\n",
    "            if file[-3:] == 'txt':\n",
    "                #Open each text file at the path provided\n",
    "                with open(os.path.join(path, file), encoding='utf-8') as t:\n",
    "                    #Read and strip new line signal\n",
    "                    text = t.read().replace('\\n', ' ')\n",
    "                    data['extracts'].append(str(text))\n",
    "                    data['author'].append(path_to_data.split('_')[0])\n",
    "    return data"
   ]
  },
  {
   "cell_type": "code",
   "execution_count": null,
   "metadata": {},
   "outputs": [],
   "source": []
  },
  {
   "cell_type": "code",
   "execution_count": 167,
   "metadata": {
    "colab": {},
    "colab_type": "code",
    "id": "f3N0RmPm6dHm"
   },
   "outputs": [
    {
     "data": {
      "text/plain": [
       "['leave', 'believe']"
      ]
     },
     "execution_count": 167,
     "metadata": {},
     "output_type": "execute_result"
    }
   ],
   "source": [
    "tokenize('If you should ever leave me, Jack your LIFE would still go on believe me')      "
   ]
  },
  {
   "cell_type": "code",
   "execution_count": 168,
   "metadata": {
    "colab": {},
    "colab_type": "code",
    "id": "anjsdCcSlbTe"
   },
   "outputs": [],
   "source": [
    "extracts_dirs = [folder for folder in os.listdir('./data') if (os.path.isdir(f'./data/{folder}') == True)]"
   ]
  },
  {
   "cell_type": "code",
   "execution_count": 169,
   "metadata": {},
   "outputs": [
    {
     "name": "stdout",
     "output_type": "stream",
     "text": [
      "(2149, 2)\n"
     ]
    }
   ],
   "source": [
    "df_final = pd.DataFrame({'extracts': [], 'author': []})\n",
    "for directory in extracts_dirs:\n",
    "    extracts = gather_data(directory)\n",
    "    df = pd.DataFrame(extracts, columns = extracts.keys())\n",
    "    df_final = pd.concat([df_final, df], axis=0)\n",
    "#     print(extracts['author'])\n",
    "#     print(directory)\n",
    "print(df_final.shape)\n",
    "df_final = df_final.reset_index()"
   ]
  },
  {
   "cell_type": "code",
   "execution_count": 28,
   "metadata": {},
   "outputs": [],
   "source": [
    "df_final.to_csv('./data/dataframe.csv', index=False)"
   ]
  },
  {
   "cell_type": "code",
   "execution_count": 170,
   "metadata": {},
   "outputs": [],
   "source": [
    "import pickle\n",
    "file = open(f'./data/dataframe.pkl', 'wb')\n",
    "pickle.dump(df_final, file)"
   ]
  },
  {
   "cell_type": "markdown",
   "metadata": {},
   "source": [
    "# Model"
   ]
  },
  {
   "cell_type": "markdown",
   "metadata": {},
   "source": [
    "## Train/Test Split"
   ]
  },
  {
   "cell_type": "code",
   "execution_count": 172,
   "metadata": {},
   "outputs": [],
   "source": [
    "import imblearn"
   ]
  },
  {
   "cell_type": "code",
   "execution_count": 173,
   "metadata": {},
   "outputs": [],
   "source": [
    "from sklearn.model_selection import train_test_split\n",
    "X = df_final['extracts']\n",
    "y = df_final['author']\n",
    "\n",
    "X_train, X_test, y_train, y_test = train_test_split(X, y, test_size=0.1, shuffle=True)"
   ]
  },
  {
   "cell_type": "code",
   "execution_count": 174,
   "metadata": {},
   "outputs": [],
   "source": [
    "X_train, X_val, y_train, y_val = train_test_split(X_train, y_train, test_size=0.2, shuffle=True)"
   ]
  },
  {
   "cell_type": "markdown",
   "metadata": {},
   "source": [
    "## Randomized Search w/ Naive Bayes"
   ]
  },
  {
   "cell_type": "code",
   "execution_count": 176,
   "metadata": {},
   "outputs": [],
   "source": [
    "from imblearn.ensemble import BalancedRandomForestClassifier\n",
    "from imblearn.pipeline import Pipeline\n",
    "from imblearn.over_sampling import SMOTE\n",
    "from imblearn.under_sampling import RandomUnderSampler\n",
    "from sklearn.feature_extraction.text import CountVectorizer, TfidfVectorizer\n",
    "from sklearn.ensemble import RandomForestClassifier\n",
    "from sklearn.model_selection import RandomizedSearchCV\n",
    "from sklearn.naive_bayes import MultinomialNB\n",
    "# from sklearn.pipeline import Pipeline\n",
    "counter = TfidfVectorizer(\n",
    "#     max_df = .97,\n",
    "#                           min_df = 5,\n",
    "#                           stop_words='english',\n",
    "# #                           ngram_range= (1,3),\n",
    "                          tokenizer=tokenize)\n",
    "\n",
    "rf = RandomForestClassifier()\n",
    "nb = MultinomialNB()\n",
    "rusampler = RandomUnderSampler()\n",
    "smote = SMOTE('all')"
   ]
  },
  {
   "cell_type": "code",
   "execution_count": 178,
   "metadata": {},
   "outputs": [],
   "source": [
    "pipeline = Pipeline([('counter', counter),\n",
    "                     ('sampler', rusampler),\n",
    "                     ('bayes', nb)])\n",
    "parameters = {\n",
    "    'counter__max_df': [i/100 for i in range(75, 100)],\n",
    "    'counter__min_df': range(0, 10),\n",
    "    'counter__ngram_range': [(1,2), (1, 3), (2,3), (3, 6), (2, 7)],\n",
    "    'counter__analyzer': ['word', 'char', 'char_wb'],\n",
    "#     'rf__max_depth': range(5,20),\n",
    "#     'rf__min_samples_split': range(2, 10),\n",
    "#     'rf__min_samples_leaf': range(1,50)\n",
    "}\n",
    "\n",
    "rand_search = RandomizedSearchCV(pipeline, parameters, cv=2, n_iter=8, n_jobs=1, verbose=2)"
   ]
  },
  {
   "cell_type": "code",
   "execution_count": 179,
   "metadata": {},
   "outputs": [
    {
     "name": "stdout",
     "output_type": "stream",
     "text": [
      "Fitting 2 folds for each of 8 candidates, totalling 16 fits\n",
      "[CV] counter__ngram_range=(2, 7), counter__min_df=7, counter__max_df=0.82, counter__analyzer=word \n"
     ]
    },
    {
     "name": "stderr",
     "output_type": "stream",
     "text": [
      "[Parallel(n_jobs=1)]: Using backend SequentialBackend with 1 concurrent workers.\n"
     ]
    },
    {
     "name": "stdout",
     "output_type": "stream",
     "text": [
      "[CV]  counter__ngram_range=(2, 7), counter__min_df=7, counter__max_df=0.82, counter__analyzer=word, total= 2.6min\n",
      "[CV] counter__ngram_range=(2, 7), counter__min_df=7, counter__max_df=0.82, counter__analyzer=word \n"
     ]
    },
    {
     "name": "stderr",
     "output_type": "stream",
     "text": [
      "[Parallel(n_jobs=1)]: Done   1 out of   1 | elapsed:  2.6min remaining:    0.0s\n"
     ]
    },
    {
     "name": "stdout",
     "output_type": "stream",
     "text": [
      "[CV]  counter__ngram_range=(2, 7), counter__min_df=7, counter__max_df=0.82, counter__analyzer=word, total= 3.1min\n",
      "[CV] counter__ngram_range=(1, 3), counter__min_df=6, counter__max_df=0.86, counter__analyzer=word \n",
      "[CV]  counter__ngram_range=(1, 3), counter__min_df=6, counter__max_df=0.86, counter__analyzer=word, total= 2.5min\n",
      "[CV] counter__ngram_range=(1, 3), counter__min_df=6, counter__max_df=0.86, counter__analyzer=word \n",
      "[CV]  counter__ngram_range=(1, 3), counter__min_df=6, counter__max_df=0.86, counter__analyzer=word, total= 2.5min\n",
      "[CV] counter__ngram_range=(1, 2), counter__min_df=2, counter__max_df=0.77, counter__analyzer=char_wb \n",
      "[CV]  counter__ngram_range=(1, 2), counter__min_df=2, counter__max_df=0.77, counter__analyzer=char_wb, total=   7.7s\n",
      "[CV] counter__ngram_range=(1, 2), counter__min_df=2, counter__max_df=0.77, counter__analyzer=char_wb \n",
      "[CV]  counter__ngram_range=(1, 2), counter__min_df=2, counter__max_df=0.77, counter__analyzer=char_wb, total=   6.2s\n",
      "[CV] counter__ngram_range=(3, 6), counter__min_df=9, counter__max_df=0.82, counter__analyzer=char \n",
      "[CV]  counter__ngram_range=(3, 6), counter__min_df=9, counter__max_df=0.82, counter__analyzer=char, total=  23.5s\n",
      "[CV] counter__ngram_range=(3, 6), counter__min_df=9, counter__max_df=0.82, counter__analyzer=char \n",
      "[CV]  counter__ngram_range=(3, 6), counter__min_df=9, counter__max_df=0.82, counter__analyzer=char, total=  22.0s\n",
      "[CV] counter__ngram_range=(3, 6), counter__min_df=1, counter__max_df=0.8, counter__analyzer=char \n",
      "[CV]  counter__ngram_range=(3, 6), counter__min_df=1, counter__max_df=0.8, counter__analyzer=char, total=  22.0s\n",
      "[CV] counter__ngram_range=(3, 6), counter__min_df=1, counter__max_df=0.8, counter__analyzer=char \n",
      "[CV]  counter__ngram_range=(3, 6), counter__min_df=1, counter__max_df=0.8, counter__analyzer=char, total=  21.3s\n",
      "[CV] counter__ngram_range=(2, 3), counter__min_df=9, counter__max_df=0.84, counter__analyzer=char \n",
      "[CV]  counter__ngram_range=(2, 3), counter__min_df=9, counter__max_df=0.84, counter__analyzer=char, total=   5.8s\n",
      "[CV] counter__ngram_range=(2, 3), counter__min_df=9, counter__max_df=0.84, counter__analyzer=char \n",
      "[CV]  counter__ngram_range=(2, 3), counter__min_df=9, counter__max_df=0.84, counter__analyzer=char, total=   5.7s\n",
      "[CV] counter__ngram_range=(1, 3), counter__min_df=9, counter__max_df=0.92, counter__analyzer=word \n",
      "[CV]  counter__ngram_range=(1, 3), counter__min_df=9, counter__max_df=0.92, counter__analyzer=word, total= 2.7min\n",
      "[CV] counter__ngram_range=(1, 3), counter__min_df=9, counter__max_df=0.92, counter__analyzer=word \n",
      "[CV]  counter__ngram_range=(1, 3), counter__min_df=9, counter__max_df=0.92, counter__analyzer=word, total= 3.0min\n",
      "[CV] counter__ngram_range=(2, 3), counter__min_df=7, counter__max_df=0.88, counter__analyzer=word \n",
      "[CV]  counter__ngram_range=(2, 3), counter__min_df=7, counter__max_df=0.88, counter__analyzer=word, total= 3.5min\n",
      "[CV] counter__ngram_range=(2, 3), counter__min_df=7, counter__max_df=0.88, counter__analyzer=word \n",
      "[CV]  counter__ngram_range=(2, 3), counter__min_df=7, counter__max_df=0.88, counter__analyzer=word, total= 3.6min\n"
     ]
    },
    {
     "name": "stderr",
     "output_type": "stream",
     "text": [
      "[Parallel(n_jobs=1)]: Done  16 out of  16 | elapsed: 25.3min finished\n"
     ]
    }
   ],
   "source": [
    "best = rand_search.fit(X_train, y_train)"
   ]
  },
  {
   "cell_type": "code",
   "execution_count": 180,
   "metadata": {},
   "outputs": [
    {
     "data": {
      "text/plain": [
       "1.0"
      ]
     },
     "execution_count": 180,
     "metadata": {},
     "output_type": "execute_result"
    }
   ],
   "source": [
    "best.best_estimator_.score(X_val, y_val)"
   ]
  },
  {
   "cell_type": "code",
   "execution_count": 181,
   "metadata": {},
   "outputs": [
    {
     "data": {
      "text/plain": [
       "0.9906976744186047"
      ]
     },
     "execution_count": 181,
     "metadata": {},
     "output_type": "execute_result"
    }
   ],
   "source": [
    "best.best_estimator_.score(X_test, y_test)"
   ]
  },
  {
   "cell_type": "code",
   "execution_count": 183,
   "metadata": {},
   "outputs": [
    {
     "data": {
      "text/plain": [
       "array([[0.5, 0.5]])"
      ]
     },
     "execution_count": 183,
     "metadata": {},
     "output_type": "execute_result"
    }
   ],
   "source": [
    "best.best_estimator_.predict_proba([''])"
   ]
  },
  {
   "cell_type": "code",
   "execution_count": 182,
   "metadata": {},
   "outputs": [
    {
     "data": {
      "text/plain": [
       "TfidfVectorizer(analyzer='char', binary=False, decode_error='strict',\n",
       "                dtype=<class 'numpy.float64'>, encoding='utf-8',\n",
       "                input='content', lowercase=True, max_df=0.82, max_features=None,\n",
       "                min_df=9, ngram_range=(3, 6), norm='l2', preprocessor=None,\n",
       "                smooth_idf=True, stop_words=None, strip_accents=None,\n",
       "                sublinear_tf=False, token_pattern='(?u)\\\\b\\\\w\\\\w+\\\\b',\n",
       "                tokenizer=<function tokenize at 0x000001ADA1FC0558>,\n",
       "                use_idf=True, vocabulary=None)"
      ]
     },
     "execution_count": 182,
     "metadata": {},
     "output_type": "execute_result"
    }
   ],
   "source": [
    "best.best_estimator_[0]"
   ]
  },
  {
   "cell_type": "code",
   "execution_count": null,
   "metadata": {},
   "outputs": [],
   "source": [
    "import pickle \n",
    "filename = 'rf_model.sav'\n",
    "pickle.dump(best, open(filename, 'wb'))"
   ]
  },
  {
   "cell_type": "markdown",
   "metadata": {},
   "source": [
    "## Nearest Neighbors Classifier"
   ]
  },
  {
   "cell_type": "code",
   "execution_count": 18,
   "metadata": {},
   "outputs": [],
   "source": [
    "from sklearn.neighbors import KNeighborsClassifier"
   ]
  },
  {
   "cell_type": "code",
   "execution_count": 57,
   "metadata": {},
   "outputs": [],
   "source": [
    "counter = best.best_estimator_[0] #from previous randomized search"
   ]
  },
  {
   "cell_type": "code",
   "execution_count": 207,
   "metadata": {},
   "outputs": [],
   "source": [
    "counts_train = counter.fit_transform(X_train).todense()\n",
    "counts_val = counter.transform(X_val).todense()"
   ]
  },
  {
   "cell_type": "code",
   "execution_count": 58,
   "metadata": {},
   "outputs": [
    {
     "ename": "NameError",
     "evalue": "name 'KNeighborsClassifier' is not defined",
     "output_type": "error",
     "traceback": [
      "\u001b[1;31m---------------------------------------------------------------------------\u001b[0m",
      "\u001b[1;31mNameError\u001b[0m                                 Traceback (most recent call last)",
      "\u001b[1;32m<ipython-input-58-f8615cabac1e>\u001b[0m in \u001b[0;36m<module>\u001b[1;34m\u001b[0m\n\u001b[1;32m----> 1\u001b[1;33m \u001b[0mknn\u001b[0m \u001b[1;33m=\u001b[0m \u001b[0mKNeighborsClassifier\u001b[0m\u001b[1;33m(\u001b[0m\u001b[0malgorithm\u001b[0m\u001b[1;33m=\u001b[0m\u001b[1;34m'kd_tree'\u001b[0m\u001b[1;33m,\u001b[0m \u001b[0mn_neighbors\u001b[0m\u001b[1;33m=\u001b[0m\u001b[1;36m1\u001b[0m\u001b[1;33m)\u001b[0m\u001b[1;33m\u001b[0m\u001b[1;33m\u001b[0m\u001b[0m\n\u001b[0m\u001b[0;32m      2\u001b[0m \u001b[0mknn\u001b[0m\u001b[1;33m.\u001b[0m\u001b[0mfit\u001b[0m\u001b[1;33m(\u001b[0m\u001b[0mcounts_train\u001b[0m\u001b[1;33m,\u001b[0m \u001b[0my_train\u001b[0m\u001b[1;33m)\u001b[0m\u001b[1;33m\u001b[0m\u001b[1;33m\u001b[0m\u001b[0m\n",
      "\u001b[1;31mNameError\u001b[0m: name 'KNeighborsClassifier' is not defined"
     ]
    }
   ],
   "source": [
    "knn = KNeighborsClassifier(algorithm='kd_tree', n_neighbors=1)\n",
    "knn.fit(counts_train, y_train)"
   ]
  },
  {
   "cell_type": "code",
   "execution_count": 212,
   "metadata": {},
   "outputs": [
    {
     "data": {
      "text/plain": [
       "0.5493615696044846"
      ]
     },
     "execution_count": 212,
     "metadata": {},
     "output_type": "execute_result"
    }
   ],
   "source": [
    "from sklearn.metrics import accuracy_score\n",
    "y_pred = knn.predict(counts_val)\n",
    "accuracy_score(y_val, y_pred)"
   ]
  },
  {
   "cell_type": "code",
   "execution_count": 16,
   "metadata": {},
   "outputs": [],
   "source": [
    "from sklearn.metrics import roc_auc_score\n",
    "y_pred = best.best_estimator_.predict(X_val)"
   ]
  },
  {
   "cell_type": "code",
   "execution_count": null,
   "metadata": {},
   "outputs": [],
   "source": [
    "import pickle \n",
    "filename = 'knn_model.sav'\n",
    "pickle.dump(best, open(filename, 'wb'))"
   ]
  },
  {
   "cell_type": "markdown",
   "metadata": {},
   "source": [
    "# Word Embeddings with Spacy"
   ]
  },
  {
   "cell_type": "code",
   "execution_count": 149,
   "metadata": {},
   "outputs": [],
   "source": [
    "def get_doc_vectors(words):\n",
    "    # converts a list of words into their word vectors\n",
    "    tokens = tokenize(words)\n",
    "    string = ' '.join(tokens)\n",
    "    return nlp(string).vector"
   ]
  },
  {
   "cell_type": "code",
   "execution_count": 150,
   "metadata": {
    "collapsed": true,
    "jupyter": {
     "outputs_hidden": true
    }
   },
   "outputs": [
    {
     "data": {
      "text/plain": [
       "array([ 0.03295   ,  0.38696995, -0.27896032,  0.01172933, -0.14194854,\n",
       "       -0.003141  , -0.165784  , -0.01600266,  0.11609102,  2.9634    ,\n",
       "       -0.24353667,  0.09561033,  0.05638926,  0.29460767, -0.27181664,\n",
       "        0.06903766, -0.34141335,  0.8254733 , -0.25299898,  0.24724667,\n",
       "        0.13279666,  0.010783  ,  0.135452  ,  0.10959434,  0.09863899,\n",
       "        0.04335667,  0.04496   , -0.16768067,  0.15088034,  0.01015398,\n",
       "       -0.13885666,  0.15474233, -0.25317332, -0.09746367,  0.14349133,\n",
       "        0.16072391,  0.14422335, -0.10444767, -0.12391373,  0.00907667,\n",
       "        0.02071233,  0.00457766,  0.02433067,  0.14915867,  0.16236967,\n",
       "       -0.04752437, -0.19396   , -0.12991066,  0.12608325,  0.126854  ,\n",
       "       -0.09501532, -0.11639333, -0.02847833, -0.17158334,  0.27571   ,\n",
       "        0.02712333, -0.11324999, -0.28153667,  0.15989633,  0.05634667,\n",
       "       -0.02932333, -0.16344   , -0.068507  , -0.15853073,  0.06580467,\n",
       "        0.03637666, -0.21820533,  0.19327335,  0.03913667,  0.09188   ,\n",
       "       -0.146827  , -0.07474466,  0.01149333,  0.035533  ,  0.00918334,\n",
       "        0.31511   ,  0.217884  , -0.078482  ,  0.062456  ,  0.104067  ,\n",
       "        0.14793333,  0.19104   , -0.33108202, -0.16759335,  0.03179399,\n",
       "       -0.37248   , -0.08446333, -0.60959   ,  0.4157933 , -0.10861667,\n",
       "       -0.29438666,  0.03113767, -0.20158   ,  0.01809533, -0.14586934,\n",
       "       -0.00894867,  0.06970667, -0.03322833, -0.22419865, -0.08867333,\n",
       "        0.15684167, -0.07655666,  0.18187867, -0.04221134,  0.103908  ,\n",
       "       -0.91062003,  0.06244283,  0.11275999, -0.09345499,  0.20447166,\n",
       "        0.0451582 ,  0.08427   , -0.05106866, -0.36444998,  0.145613  ,\n",
       "       -0.04058   ,  0.067287  , -0.07099533, -0.06705666,  0.06967399,\n",
       "        0.10645334, -0.29215   ,  0.17193   , -0.14083266,  0.33910668,\n",
       "        0.061013  , -0.074449  , -0.220756  ,  0.20737433, -0.03424999,\n",
       "        0.12367   , -0.01600334, -0.075645  ,  0.00397433,  0.04707174,\n",
       "       -0.04285434, -0.07128666, -0.16758466, -0.192971  ,  0.165192  ,\n",
       "       -1.6644334 , -0.0812045 ,  0.015354  ,  0.04022333, -0.051176  ,\n",
       "       -0.1478203 , -0.19875999,  0.34451333, -0.16364066, -0.27884665,\n",
       "        0.09304767, -0.031566  ,  0.16493301,  0.012606  , -0.14501233,\n",
       "        0.03957457,  0.02957132, -0.33564004, -0.15733066, -0.21648668,\n",
       "       -0.07411667,  0.12116999,  0.06891733,  0.19962335,  0.21226633,\n",
       "       -0.00726067,  0.28844333, -0.14778   ,  0.18103401, -0.07613967,\n",
       "        0.014327  , -0.11127866,  0.20109068, -0.18449335,  0.16247667,\n",
       "        0.32327667, -0.0500134 ,  0.0332763 , -0.065107  , -0.18100066,\n",
       "        0.134917  , -0.01668   ,  0.045342  ,  0.06557   ,  0.00782113,\n",
       "        0.05140066, -0.18085669, -0.13964434,  0.140085  ,  0.07587134,\n",
       "        0.00332333,  0.09475335, -0.21519566,  0.01657367,  0.12023   ,\n",
       "        0.24376802, -0.023117  , -0.19126801,  0.097385  ,  0.29715666,\n",
       "       -0.24835901,  0.00405933, -0.09309184, -0.20602167,  0.06835932,\n",
       "        0.057566  ,  0.20945536, -0.02891467, -0.01524   ,  0.13048   ,\n",
       "       -0.07846   , -0.04041433,  0.00962367, -0.15342535,  0.28277668,\n",
       "       -0.09769333,  0.29062667,  0.0480987 , -0.09465667, -0.00926633,\n",
       "       -0.127019  , -0.079315  , -0.14692001,  0.159693  ,  0.04677567,\n",
       "       -0.02091367, -0.06645767,  0.09258533, -0.23558669,  0.01410667,\n",
       "       -0.26842666,  0.097364  ,  0.09444666,  0.24485667,  0.01366233,\n",
       "       -0.01099347,  0.04989133, -0.19162767, -0.27547666,  0.02616233,\n",
       "        0.17145766, -0.06997027,  0.11897233,  0.18760234,  0.121692  ,\n",
       "        0.09176572, -0.21168868, -0.04531566, -0.217369  ,  0.43097964,\n",
       "        0.08599333, -0.13389333, -0.09078   , -0.15207766,  0.04139333,\n",
       "        0.37669834, -0.12274633, -0.08686867,  0.00730853,  0.27034   ,\n",
       "       -0.01943333,  0.36318   ,  0.08801067,  0.07547966,  0.0631    ,\n",
       "       -0.12293733, -0.00774767,  0.10923   ,  0.17520666,  0.21178667,\n",
       "        0.11074901, -0.059184  , -0.07236999, -0.03026057, -0.084401  ,\n",
       "        0.18741268,  0.03493633,  0.164441  , -0.060475  ,  0.24469332,\n",
       "       -0.17641401, -0.148131  , -0.027529  , -0.10147796,  0.00466667,\n",
       "       -0.09724733,  0.14266723,  0.03062334,  0.12521833,  0.078422  ,\n",
       "       -0.26030168, -0.01736267, -0.222827  , -0.22358365,  0.09890866,\n",
       "        0.0850183 , -0.29235432,  0.17702234,  0.01504667, -0.23360169],\n",
       "      dtype=float32)"
      ]
     },
     "execution_count": 150,
     "metadata": {},
     "output_type": "execute_result"
    }
   ],
   "source": [
    "get_doc_vectors('If you should ever leave me, your life should still go on believe me!')"
   ]
  },
  {
   "cell_type": "code",
   "execution_count": 151,
   "metadata": {},
   "outputs": [],
   "source": [
    "vectors = df_final['extracts'].apply(get_doc_vectors).tolist()"
   ]
  },
  {
   "cell_type": "code",
   "execution_count": 152,
   "metadata": {},
   "outputs": [],
   "source": [
    "from sklearn.decomposition import PCA\n",
    "import pickle\n",
    "pca = PCA(2)\n",
    "word_vecs_2d = pca.fit_transform(vectors)"
   ]
  },
  {
   "cell_type": "code",
   "execution_count": null,
   "metadata": {},
   "outputs": [],
   "source": []
  },
  {
   "cell_type": "code",
   "execution_count": 153,
   "metadata": {},
   "outputs": [],
   "source": [
    "word_vecs_train = X_train.apply(get_doc_vectors).tolist()\n",
    "word_vecs_val = X_val.apply(get_doc_vectors).tolist()\n",
    "word_vecs_test = X_test.apply(get_doc_vectors).tolist()"
   ]
  },
  {
   "cell_type": "code",
   "execution_count": 163,
   "metadata": {},
   "outputs": [],
   "source": [
    "#Pickle 2D word vectors for use in dash app\n",
    "file = open(f'./models/word_vectors.pkl', 'wb')\n",
    "pickle.dump(word_vecs_2d, file)\n",
    "file.close()"
   ]
  },
  {
   "cell_type": "code",
   "execution_count": 155,
   "metadata": {},
   "outputs": [
    {
     "data": {
      "text/plain": [
       "array([0., 0., 0., 0., 0., 0., 0., 0., 0., 0., 0., 0., 0., 0., 0., 0., 0.,\n",
       "       0., 0., 0., 0., 0., 0., 0., 0., 0., 0., 0., 0., 0., 0., 0., 0., 0.,\n",
       "       0., 0., 0., 0., 0., 0., 0., 0., 0., 0., 0., 0., 0., 0., 0., 0., 0.,\n",
       "       0., 0., 0., 0., 0., 0., 0., 0., 0., 0., 0., 0., 0., 0., 0., 0., 0.,\n",
       "       0., 0., 0., 0., 0., 0., 0., 0., 0., 0., 0., 0., 0., 0., 0., 0., 0.,\n",
       "       0., 0., 0., 0., 0., 0., 0., 0., 0., 0., 0., 0., 0., 0., 0., 0., 0.,\n",
       "       0., 0., 0., 0., 0., 0., 0., 0., 0., 0., 0., 0., 0., 0., 0., 0., 0.,\n",
       "       0., 0., 0., 0., 0., 0., 0., 0., 0., 0., 0., 0., 0., 0., 0., 0., 0.,\n",
       "       0., 0., 0., 0., 0., 0., 0., 0., 0., 0., 0., 0., 0., 0., 0., 0., 0.,\n",
       "       0., 0., 0., 0., 0., 0., 0., 0., 0., 0., 0., 0., 0., 0., 0., 0., 0.,\n",
       "       0., 0., 0., 0., 0., 0., 0., 0., 0., 0., 0., 0., 0., 0., 0., 0., 0.,\n",
       "       0., 0., 0., 0., 0., 0., 0., 0., 0., 0., 0., 0., 0., 0., 0., 0., 0.,\n",
       "       0., 0., 0., 0., 0., 0., 0., 0., 0., 0., 0., 0., 0., 0., 0., 0., 0.,\n",
       "       0., 0., 0., 0., 0., 0., 0., 0., 0., 0., 0., 0., 0., 0., 0., 0., 0.,\n",
       "       0., 0., 0., 0., 0., 0., 0., 0., 0., 0., 0., 0., 0., 0., 0., 0., 0.,\n",
       "       0., 0., 0., 0., 0., 0., 0., 0., 0., 0., 0., 0., 0., 0., 0., 0., 0.,\n",
       "       0., 0., 0., 0., 0., 0., 0., 0., 0., 0., 0., 0., 0., 0., 0., 0., 0.,\n",
       "       0., 0., 0., 0., 0., 0., 0., 0., 0., 0., 0.], dtype=float32)"
      ]
     },
     "execution_count": 155,
     "metadata": {},
     "output_type": "execute_result"
    }
   ],
   "source": [
    "get_doc_vectors('no')"
   ]
  },
  {
   "cell_type": "code",
   "execution_count": 160,
   "metadata": {},
   "outputs": [
    {
     "name": "stdout",
     "output_type": "stream",
     "text": [
      "1 0.8981481481481481 [[0. 1.]]\n",
      "2 0.8888888888888888 [[0.5 0.5]]\n",
      "3 0.9074074074074074 [[0.66666667 0.33333333]]\n",
      "4 0.8981481481481481 [[0.75 0.25]]\n",
      "5 0.8981481481481481 [[0.74999998 0.25000002]]\n",
      "6 0.9074074074074074 [[0.74999993 0.25000007]]\n",
      "7 0.9074074074074074 [[0.74999986 0.25000014]]\n",
      "8 0.9074074074074074 [[0.74999994 0.25000006]]\n",
      "9 0.9074074074074074 [[0.74999957 0.25000043]]\n",
      "10 0.9074074074074074 [[0.7499999 0.2500001]]\n",
      "11 0.9074074074074074 [[0.74999986 0.25000014]]\n",
      "12 0.9074074074074074 [[0.74999988 0.25000012]]\n",
      "13 0.9074074074074074 [[0.74999992 0.25000008]]\n",
      "14 0.9074074074074074 [[0.7499997 0.2500003]]\n",
      "15 0.9166666666666666 [[0.74999998 0.25000002]]\n",
      "16 0.9166666666666666 [[0.7499991 0.2500009]]\n",
      "17 0.9166666666666666 [[0.74999969 0.25000031]]\n",
      "18 0.9166666666666666 [[0.74999901 0.25000099]]\n",
      "19 0.9166666666666666 [[0.7499993 0.2500007]]\n",
      "20 0.9166666666666666 [[0.74999985 0.25000015]]\n",
      "21 0.9166666666666666 [[0.74999994 0.25000006]]\n",
      "22 0.9166666666666666 [[0.74999992 0.25000008]]\n",
      "23 0.9166666666666666 [[0.74999996 0.25000004]]\n",
      "24 0.9166666666666666 [[0.74999966 0.25000034]]\n",
      "25 0.9166666666666666 [[0.74999929 0.25000071]]\n",
      "26 0.9166666666666666 [[0.74999989 0.25000011]]\n",
      "27 0.9166666666666666 [[0.74999979 0.25000021]]\n",
      "28 0.9166666666666666 [[0.74999957 0.25000043]]\n",
      "29 0.9166666666666666 [[0.74999996 0.25000004]]\n",
      "30 0.9166666666666666 [[0.74999984 0.25000016]]\n",
      "31 0.9166666666666666 [[0.7499999 0.2500001]]\n",
      "32 0.9166666666666666 [[0.74999967 0.25000033]]\n",
      "33 0.9166666666666666 [[0.74999868 0.25000132]]\n",
      "34 0.9166666666666666 [[0.74999996 0.25000004]]\n",
      "35 0.9166666666666666 [[0.7499999 0.2500001]]\n",
      "36 0.9166666666666666 [[0.74999978 0.25000022]]\n",
      "37 0.9166666666666666 [[0.74999997 0.25000003]]\n",
      "38 0.9166666666666666 [[0.74999962 0.25000038]]\n",
      "39 0.9166666666666666 [[0.74999906 0.25000094]]\n",
      "40 0.9166666666666666 [[0.74999998 0.25000002]]\n",
      "41 0.9166666666666666 [[0.7499998 0.2500002]]\n",
      "42 0.9166666666666666 [[0.74999984 0.25000016]]\n",
      "43 0.9166666666666666 [[0.74999961 0.25000039]]\n",
      "44 0.9166666666666666 [[0.74999981 0.25000019]]\n",
      "45 0.9166666666666666 [[0.74999934 0.25000066]]\n",
      "46 0.9166666666666666 [[0.75 0.25]]\n",
      "47 0.9166666666666666 [[0.74999999 0.25000001]]\n",
      "48 0.9166666666666666 [[0.74999998 0.25000002]]\n",
      "49 0.9166666666666666 [[0.75 0.25]]\n"
     ]
    }
   ],
   "source": [
    "from sklearn.pipeline import make_pipeline\n",
    "for k in range(1,50):\n",
    "    pca = PCA(2)\n",
    "    knn = KNeighborsClassifier(algorithm='kd_tree', n_neighbors = k, weights='distance', metric='euclidean')\n",
    "    pipeline = make_pipeline(pca, knn)\n",
    "    pipeline.fit(word_vecs_train, y_train)\n",
    "    print(k, pipeline.score(word_vecs_test, y_test), pipeline.predict_proba(get_doc_vectors('').reshape(1, -1)))"
   ]
  },
  {
   "cell_type": "code",
   "execution_count": 137,
   "metadata": {},
   "outputs": [],
   "source": [
    "pca = PCA(2)\n",
    "k=2\n",
    "knn = KNeighborsClassifier(algorithm='kd_tree', n_neighbors = k, weights='distance', metric='euclidean')\n",
    "pipeline = make_pipeline(pca, knn)\n",
    "pipeline.fit(word_vecs_train, y_train)\n",
    "file = open(f'./models/model_k{k}.pkl', 'wb') # 2 is most balanced prediction probabilities\n",
    "pickle.dump(pipeline, file)\n",
    "file.close()"
   ]
  },
  {
   "cell_type": "code",
   "execution_count": 32,
   "metadata": {},
   "outputs": [
    {
     "name": "stdout",
     "output_type": "stream",
     "text": [
      "0.9444444444444444\n",
      "0.9444444444444444\n",
      "0.9351851851851852\n",
      "0.9444444444444444\n",
      "0.9351851851851852\n"
     ]
    }
   ],
   "source": [
    "for k in range(7, 12):\n",
    "    pca = PCA(2)\n",
    "    knn = KNeighborsClassifier(algorithm='kd_tree', n_neighbors = k, weights='distance', metric='euclidean')\n",
    "    pipeline = make_pipeline(pca, knn)\n",
    "    pipeline.fit(word_vecs_train, y_train)\n",
    "    print(pipeline.score(word_vecs_test, y_test))"
   ]
  },
  {
   "cell_type": "code",
   "execution_count": 87,
   "metadata": {},
   "outputs": [
    {
     "data": {
      "text/plain": [
       "'The author most likely to have written your sample, \"Noam Chomsky was a great author\", is foucault.'"
      ]
     },
     "execution_count": 87,
     "metadata": {},
     "output_type": "execute_result"
    }
   ],
   "source": [
    "def display_results(text, k):\n",
    "    file = open(f'./models/model_k{k}.pkl', 'rb')\n",
    "    model = pickle.load(file)\n",
    "    file.close()\n",
    "    vector = get_doc_vectors(text)\n",
    "    new_obs = vector\n",
    "    pred = model.predict(new_obs)[0]\n",
    "    return f'The author most likely to have written your sample, \"{text}\", is {pred}.'\n",
    "\n",
    "display_results('Noam Chomsky was a great author', 5)"
   ]
  },
  {
   "cell_type": "code",
   "execution_count": null,
   "metadata": {},
   "outputs": [],
   "source": []
  },
  {
   "cell_type": "code",
   "execution_count": 138,
   "metadata": {},
   "outputs": [
    {
     "data": {
      "text/plain": [
       "<matplotlib.collections.PathCollection at 0x1adf2b9c5c8>"
      ]
     },
     "execution_count": 138,
     "metadata": {},
     "output_type": "execute_result"
    },
    {
     "data": {
      "image/png": "[encoded data removed]",
      "text/plain": [
       "<Figure size 432x288 with 1 Axes>"
      ]
     },
     "metadata": {
      "needs_background": "light"
     },
     "output_type": "display_data"
    }
   ],
   "source": [
    "plt.scatter(x=word_vecs_2d[:, 0],y=word_vecs_2d[:,1])"
   ]
  },
  {
   "cell_type": "code",
   "execution_count": 139,
   "metadata": {},
   "outputs": [
    {
     "data": {
      "text/plain": [
       "Text(0.5, 1.0, '')"
      ]
     },
     "execution_count": 139,
     "metadata": {},
     "output_type": "execute_result"
    },
    {
     "data": {
      "image/png": "[encoded data removed]",
      "text/plain": [
       "<Figure size 720x720 with 1 Axes>"
      ]
     },
     "metadata": {
      "needs_background": "light"
     },
     "output_type": "display_data"
    }
   ],
   "source": [
    "import seaborn as sns\n",
    "import matplotlib.pyplot as plt\n",
    "plt.figure(figsize=(10, 10))\n",
    "sns.scatterplot(word_vecs_2d[:,0], word_vecs_2d[:,1], hue=df_final['author'])\n",
    "plt.title('')"
   ]
  },
  {
   "cell_type": "markdown",
   "metadata": {},
   "source": [
    "# Word Embeddings w/ Gensim"
   ]
  },
  {
   "cell_type": "code",
   "execution_count": null,
   "metadata": {},
   "outputs": [],
   "source": [
    "import gensim\n",
    "from gensim import corpora\n",
    "from gensim.utils import simple_preprocess"
   ]
  },
  {
   "cell_type": "code",
   "execution_count": 137,
   "metadata": {},
   "outputs": [],
   "source": [
    "def read_corpus(series, tokens_only=False):\n",
    "    for i, doc in enumerate(series):\n",
    "        tokens = gensim.utils.simple_preprocess(doc)\n",
    "        print(tokens)\n",
    "        if tokens_only:\n",
    "            yield tokens\n",
    "        else:\n",
    "            # For training data, add tags\n",
    "            yield gensim.models.doc2vec.TaggedDocument(tokens, [i])"
   ]
  },
  {
   "cell_type": "code",
   "execution_count": 149,
   "metadata": {},
   "outputs": [
    {
     "name": "stdout",
     "output_type": "stream",
     "text": [
      "['rl', 'if', 'kjii', 'jp', 'kwsg', 'ffc', 'fffjil', 'ri', 'hscif', 'piini', 'pqb', 'ffi', 'ipil', 'igij', 'ssbhlil', 'ps', 'im', 'iilb', 'ii', 'msjr', 'tashi', 'nst', 'liii', 'sf', 'ic', 'tta', 'ksp', 'mr', 'izlv', 'siirhki', 'hhh', 'fjfi', 'imimmiumnmum', 'mm', 'ar', 'kttaskni', 'ks', 'ssi', 'sr', 'ziubuss', 'fmhlll', 'fiiblii', 'hi', 'hr', 'hhi', 'rwm', 'tret', 'sks', 'nh', 'ii']\n"
     ]
    },
    {
     "data": {
      "text/plain": [
       "TaggedDocument(words=['rl', 'if', 'kjii', 'jp', 'kwsg', 'ffc', 'fffjil', 'ri', 'hscif', 'piini', 'pqb', 'ffi', 'ipil', 'igij', 'ssbhlil', 'ps', 'im', 'iilb', 'ii', 'msjr', 'tashi', 'nst', 'liii', 'sf', 'ic', 'tta', 'ksp', 'mr', 'izlv', 'siirhki', 'hhh', 'fjfi', 'imimmiumnmum', 'mm', 'ar', 'kttaskni', 'ks', 'ssi', 'sr', 'ziubuss', 'fmhlll', 'fiiblii', 'hi', 'hr', 'hhi', 'rwm', 'tret', 'sks', 'nh', 'ii'], tags=[0])"
      ]
     },
     "execution_count": 149,
     "metadata": {},
     "output_type": "execute_result"
    }
   ],
   "source": [
    "next(read_corpus(df_final['extracts']))"
   ]
  },
  {
   "cell_type": "code",
   "execution_count": null,
   "metadata": {},
   "outputs": [],
   "source": []
  },
  {
   "cell_type": "code",
   "execution_count": null,
   "metadata": {},
   "outputs": [],
   "source": []
  }
 ],
 "metadata": {
  "colab": {
   "name": "Foucault vs Chomsky.ipynb",
   "provenance": []
  },
  "kernelspec": {
   "display_name": "my-virtualenv-name",
   "language": "python",
   "name": "my-virtualenv-name"
  },
  "language_info": {
   "codemirror_mode": {
    "name": "ipython",
    "version": 3
   },
   "file_extension": ".py",
   "mimetype": "text/x-python",
   "name": "python",
   "nbconvert_exporter": "python",
   "pygments_lexer": "ipython3",
   "version": "3.7.5"
  }
 },
 "nbformat": 4,
 "nbformat_minor": 4
}
