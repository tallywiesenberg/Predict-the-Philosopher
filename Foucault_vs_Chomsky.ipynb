{
 "cells": [
  {
   "cell_type": "markdown",
   "metadata": {},
   "source": [
    "# Preprocessing"
   ]
  },
  {
   "cell_type": "code",
   "execution_count": 1,
   "metadata": {},
   "outputs": [],
   "source": [
    "import numpy as np\n",
    "import spacy\n",
    "import gensim\n",
    "import os\n",
    "import re\n",
    "from gensim.utils import simple_preprocess, lemmatize\n",
    "from gensim.parsing.preprocessing import STOPWORDS\n",
    "from gensim import corpora\n",
    "\n",
    "from gensim.models.ldamulticore import LdaMulticore\n",
    "\n",
    "import pandas as pd\n",
    "nlp = spacy.load(\"en_core_web_lg\")"
   ]
  },
  {
   "cell_type": "code",
   "execution_count": 2,
   "metadata": {
    "colab": {
     "base_uri": "https://localhost:8080/",
     "height": 229
    },
    "colab_type": "code",
    "id": "aLdX4J785gXQ",
    "outputId": "1edf7396-9e94-42e1-fa6b-04832907fa2b"
   },
   "outputs": [],
   "source": [
    "from bs4 import BeautifulSoup\n",
    "from os import mkdir\n",
    "import requests\n",
    "#Dicitionary used to access full book text in HTML format\n",
    "urls = {'foucault_madness_and_civ':'https://archive.org/stream/Michel_Foucault_Madness_And_Civilization/Michel%20Foucault%2C%20Richard%20Howard%20%28transl.%29%20-%20Madness%20and%20Civilization_%20A%20History%20of%20Insanity%20in%20the%20Age%20of%20Reason%20%282013%2C%20Vintage%29_djvu.txt',\n",
    "        'foucault_discipline_and_punish': 'https://archive.org/stream/MichelFoucaultDisciplineAndPunish/Michel%20Foucault%20-%20Discipline%20and%20Punish_djvu.txt',\n",
    "        'foucault_history_of_sexuality':'https://archive.org/stream/TheHistoryOfSexualityVol13/The-History-Of-Sexuality-Vol-1-3_djvu.txt',\n",
    "        'chomsky_media_control': 'https://archive.org/stream/media_Noam_Chomsky-Media_Control/Noam_Chomsky-Media_Control_djvu.txt',\n",
    "        'chomsky_american_power': 'https://archive.org/stream/AmericanPowerAndTheNewMandarins_201805/American%20Power%20And%20The%20New%20Mandarins_djvu.txt',\n",
    "        'chomsky_manufacturing_consent': 'https://archive.org/stream/revhosatx14/%5BEdward_S._Herman%2C_Noam_Chomsky%5D_Manufacturing_Con%28b-ok.org%29_djvu.txt'}"
   ]
  },
  {
   "cell_type": "code",
   "execution_count": 3,
   "metadata": {},
   "outputs": [],
   "source": [
    "def file_books(title, link):\n",
    "    '''Create directories for book from title and link'''\n",
    "    #Access HTML webpage on Internet Archive\n",
    "    r = requests.get(link)\n",
    "    data = r.text\n",
    "    soup = BeautifulSoup(data)\n",
    "    #Full text is in <pre> part of HTML doc\n",
    "    book = soup.pre.string\n",
    "    #Write book as text file, save file\n",
    "    with open(f'./data/{title}.txt', 'w', encoding='utf-8') as book_file:\n",
    "        book_file.write(book)\n",
    "        #Make a folder for each book\n",
    "        mkdir(f'./data/{title}_extracts')\n",
    "def split_book(title, n_lines=100):\n",
    "    '''Split a text file based on a number of lines, book title'''\n",
    "    #Find file path based on title\n",
    "    filepath = f'./data/{title}.txt'\n",
    "    #Extract directory and filename from file path\n",
    "    path, filename = os.path.split(filepath)\n",
    "    #Change path to book's directory\n",
    "    path += f'/{title}_extracts'\n",
    "    # filename.split('.') would not work for filenames with more than one .\n",
    "    basename, ext = os.path.splitext(filename)\n",
    "    #open input file\n",
    "    with open(filepath, 'r', encoding='utf-8') as book_file:\n",
    "        try:\n",
    "            #open the first output(extract) file\n",
    "            extract_file = open(os.path.join(path, '{}_{}{}'.format(basename, 0, ext)), 'w', encoding='utf-8')\n",
    "            #Loop over all lines of input file, number them\n",
    "            for i, line in enumerate(book_file):\n",
    "                #Close extract file and open a new one\n",
    "                #When the line number % desired n_lines is 0\n",
    "                if i % n_lines == 0:\n",
    "                    extract_file.close()\n",
    "                    #Open the next output file to write the next extract\n",
    "                    extract_file = open(os.path.join(path, '{}_{}{}'.format(basename, i/100, ext)), 'w', encoding='utf-8')\n",
    "                #write the line to extract file\n",
    "                extract_file.write(line)\n",
    "        finally:\n",
    "            #close last output file\n",
    "            extract_file.close()"
   ]
  },
  {
   "cell_type": "code",
   "execution_count": 4,
   "metadata": {},
   "outputs": [],
   "source": [
    "if not os.path.isdir('./data'):  \n",
    "    os.mkdir('./data')\n",
    "for title, link in urls.items():\n",
    "    if not os.path.isdir(f'./data/{title}_extracts'):\n",
    "        file_books(title, link)\n",
    "        split_book(title)"
   ]
  },
  {
   "cell_type": "code",
   "execution_count": 5,
   "metadata": {},
   "outputs": [],
   "source": [
    "def tokenize(doc):\n",
    "    '''Tokenizer with lemmatizer'''\n",
    "    return [token.lemma_ for token in nlp(doc) if (token.is_stop == False) &\n",
    "            (token.is_punct == False) & (token.is_space == False) &\n",
    "            (token.is_upper == False) & (token.pos_ != 'PROPN')]\n",
    "def gather_data(path_to_data):\n",
    "    path = f'./data/{path_to_data}'\n",
    "    data = {'extracts': [], 'author': []}\n",
    "    #For file at the given path\n",
    "    for file in os.listdir(path):\n",
    "        #If the directory is not a folder\n",
    "        if os.path.isdir(file) == False:\n",
    "            #If the file type is .txt\n",
    "            if file[-3:] == 'txt':\n",
    "                #Open each text file at the path provided\n",
    "                with open(os.path.join(path, file), encoding='utf-8') as t:\n",
    "                    #Read and strip new line signal\n",
    "                    text = t.read().replace('\\n', ' ')\n",
    "                    data['extracts'].append(str(text))\n",
    "                    data['author'].append(path_to_data.split('_')[0])\n",
    "    return data"
   ]
  },
  {
   "cell_type": "code",
   "execution_count": null,
   "metadata": {},
   "outputs": [],
   "source": []
  },
  {
   "cell_type": "code",
   "execution_count": 6,
   "metadata": {
    "colab": {},
    "colab_type": "code",
    "id": "f3N0RmPm6dHm"
   },
   "outputs": [
    {
     "data": {
      "text/plain": [
       "['leave', 'believe']"
      ]
     },
     "execution_count": 6,
     "metadata": {},
     "output_type": "execute_result"
    }
   ],
   "source": [
    "tokenize('If you should ever leave me, Jack your LIFE would still go on believe me')      "
   ]
  },
  {
   "cell_type": "code",
   "execution_count": 24,
   "metadata": {
    "colab": {},
    "colab_type": "code",
    "id": "anjsdCcSlbTe"
   },
   "outputs": [
    {
     "data": {
      "text/plain": [
       "'american power extracts'"
      ]
     },
     "execution_count": 24,
     "metadata": {},
     "output_type": "execute_result"
    }
   ],
   "source": [
    "extracts_dirs = [folder for folder in os.listdir('./data') if (os.path.isdir(f'./data/{folder}') == True)]"
   ]
  },
  {
   "cell_type": "code",
   "execution_count": 26,
   "metadata": {},
   "outputs": [
    {
     "name": "stdout",
     "output_type": "stream",
     "text": [
      "(1080, 2)\n"
     ]
    }
   ],
   "source": [
    "df_final = pd.DataFrame({'extracts': [], 'author': []})\n",
    "for directory in extracts_dirs:\n",
    "    extracts = gather_data(directory)\n",
    "    df = pd.DataFrame(extracts, columns = extracts.keys())\n",
    "    df_final = pd.concat([df_final, df], axis=0)\n",
    "#     print(extracts['author'])\n",
    "#     print(directory)\n",
    "print(df_final.shape)\n",
    "df_final = df_final.reset_index()"
   ]
  },
  {
   "cell_type": "code",
   "execution_count": 27,
   "metadata": {},
   "outputs": [],
   "source": [
    "df_final.to_csv('./data/dataframe.csv', index=False)"
   ]
  },
  {
   "cell_type": "markdown",
   "metadata": {},
   "source": [
    "# Model"
   ]
  },
  {
   "cell_type": "markdown",
   "metadata": {},
   "source": [
    "## Train/Test Split"
   ]
  },
  {
   "cell_type": "code",
   "execution_count": 11,
   "metadata": {},
   "outputs": [
    {
     "ename": "ModuleNotFoundError",
     "evalue": "No module named 'imblearn'",
     "output_type": "error",
     "traceback": [
      "\u001b[1;31m----------------------------------------------------------------\u001b[0m",
      "\u001b[1;31mModuleNotFoundError\u001b[0m            Traceback (most recent call last)",
      "\u001b[1;32m<ipython-input-11-f327d60d7013>\u001b[0m in \u001b[0;36m<module>\u001b[1;34m\u001b[0m\n\u001b[1;32m----> 1\u001b[1;33m \u001b[1;32mimport\u001b[0m \u001b[0mimblearn\u001b[0m\u001b[1;33m\u001b[0m\u001b[1;33m\u001b[0m\u001b[0m\n\u001b[0m",
      "\u001b[1;31mModuleNotFoundError\u001b[0m: No module named 'imblearn'"
     ]
    }
   ],
   "source": [
    "import imblearn"
   ]
  },
  {
   "cell_type": "code",
   "execution_count": 12,
   "metadata": {},
   "outputs": [],
   "source": [
    "from sklearn.model_selection import train_test_split\n",
    "X = df_final['extracts']\n",
    "y = df_final['author']\n",
    "\n",
    "X_train, X_test, y_train, y_test = train_test_split(X, y, test_size=0.1, shuffle=True)"
   ]
  },
  {
   "cell_type": "code",
   "execution_count": 13,
   "metadata": {},
   "outputs": [],
   "source": [
    "X_train, X_val, y_train, y_val = train_test_split(X_train, y_train, test_size=0.2, shuffle=True)"
   ]
  },
  {
   "cell_type": "markdown",
   "metadata": {},
   "source": [
    "## Randomized Search w/ Random Forest"
   ]
  },
  {
   "cell_type": "code",
   "execution_count": 43,
   "metadata": {},
   "outputs": [],
   "source": [
    "from imblearn.ensemble import BalancedRandomForestClassifier\n",
    "from imblearn.pipeline import Pipeline\n",
    "from imblearn.over_sampling import SMOTE\n",
    "from imblearn.under_sampling import RandomUnderSampler\n",
    "from sklearn.feature_extraction.text import CountVectorizer, TfidfVectorizer\n",
    "from sklearn.ensemble import RandomForestClassifier\n",
    "from sklearn.model_selection import RandomizedSearchCV\n",
    "from sklearn.naive_bayes import MultinomialNB\n",
    "# from sklearn.pipeline import Pipeline\n",
    "counter = TfidfVectorizer(\n",
    "#     max_df = .97,\n",
    "#                           min_df = 5,\n",
    "#                           stop_words='english',\n",
    "# #                           ngram_range= (1,3),\n",
    "                          tokenizer=tokenize)\n",
    "\n",
    "rf = RandomForestClassifier()\n",
    "nb = \n",
    "rusampler = RandomUnderSampler()\n",
    "smote = SMOTE('all')"
   ]
  },
  {
   "cell_type": "code",
   "execution_count": 48,
   "metadata": {},
   "outputs": [],
   "source": [
    "pipeline = Pipeline([('counter', counter),\n",
    "                     ('sampler', rusampler),\n",
    "                     ('rf', rf)])\n",
    "parameters = {\n",
    "    'counter__max_df': [i/100 for i in range(75, 100)],\n",
    "    'counter__min_df': range(0, 10),\n",
    "    'counter__ngram_range': [(1,2), (1, 3), (2,3), (3, 6), (2, 7)],\n",
    "    'counter__analyzer': ['word', 'char', 'char_wb'],\n",
    "    'rf__max_depth': range(5,20),\n",
    "    'rf__min_samples_split': range(2, 10),\n",
    "    'rf__min_samples_leaf': range(1,50)\n",
    "}\n",
    "\n",
    "rand_search = RandomizedSearchCV(pipeline, parameters, cv=2, n_iter=8, n_jobs=1, verbose=2)"
   ]
  },
  {
   "cell_type": "code",
   "execution_count": 49,
   "metadata": {},
   "outputs": [
    {
     "name": "stdout",
     "output_type": "stream",
     "text": [
      "Fitting 2 folds for each of 8 candidates, totalling 16 fits\n",
      "[CV] rf__min_samples_split=4, rf__min_samples_leaf=11, rf__max_depth=16, counter__ngram_range=(2, 7), counter__min_df=9, counter__max_df=0.76, counter__analyzer=word \n"
     ]
    },
    {
     "name": "stderr",
     "output_type": "stream",
     "text": [
      "[Parallel(n_jobs=1)]: Using backend SequentialBackend with 1 concurrent workers.\n"
     ]
    },
    {
     "name": "stdout",
     "output_type": "stream",
     "text": [
      "[CV]  rf__min_samples_split=4, rf__min_samples_leaf=11, rf__max_depth=16, counter__ngram_range=(2, 7), counter__min_df=9, counter__max_df=0.76, counter__analyzer=word, total= 2.4min\n",
      "[CV] rf__min_samples_split=4, rf__min_samples_leaf=11, rf__max_depth=16, counter__ngram_range=(2, 7), counter__min_df=9, counter__max_df=0.76, counter__analyzer=word \n"
     ]
    },
    {
     "name": "stderr",
     "output_type": "stream",
     "text": [
      "[Parallel(n_jobs=1)]: Done   1 out of   1 | elapsed:  2.4min remaining:    0.0s\n"
     ]
    },
    {
     "name": "stdout",
     "output_type": "stream",
     "text": [
      "[CV]  rf__min_samples_split=4, rf__min_samples_leaf=11, rf__max_depth=16, counter__ngram_range=(2, 7), counter__min_df=9, counter__max_df=0.76, counter__analyzer=word, total= 2.6min\n",
      "[CV] rf__min_samples_split=2, rf__min_samples_leaf=23, rf__max_depth=9, counter__ngram_range=(1, 2), counter__min_df=4, counter__max_df=0.82, counter__analyzer=word \n",
      "[CV]  rf__min_samples_split=2, rf__min_samples_leaf=23, rf__max_depth=9, counter__ngram_range=(1, 2), counter__min_df=4, counter__max_df=0.82, counter__analyzer=word, total= 2.6min\n",
      "[CV] rf__min_samples_split=2, rf__min_samples_leaf=23, rf__max_depth=9, counter__ngram_range=(1, 2), counter__min_df=4, counter__max_df=0.82, counter__analyzer=word \n",
      "[CV]  rf__min_samples_split=2, rf__min_samples_leaf=23, rf__max_depth=9, counter__ngram_range=(1, 2), counter__min_df=4, counter__max_df=0.82, counter__analyzer=word, total= 2.6min\n",
      "[CV] rf__min_samples_split=6, rf__min_samples_leaf=36, rf__max_depth=5, counter__ngram_range=(1, 2), counter__min_df=8, counter__max_df=0.9, counter__analyzer=word \n",
      "[CV]  rf__min_samples_split=6, rf__min_samples_leaf=36, rf__max_depth=5, counter__ngram_range=(1, 2), counter__min_df=8, counter__max_df=0.9, counter__analyzer=word, total= 2.5min\n",
      "[CV] rf__min_samples_split=6, rf__min_samples_leaf=36, rf__max_depth=5, counter__ngram_range=(1, 2), counter__min_df=8, counter__max_df=0.9, counter__analyzer=word \n",
      "[CV]  rf__min_samples_split=6, rf__min_samples_leaf=36, rf__max_depth=5, counter__ngram_range=(1, 2), counter__min_df=8, counter__max_df=0.9, counter__analyzer=word, total= 2.5min\n",
      "[CV] rf__min_samples_split=2, rf__min_samples_leaf=47, rf__max_depth=15, counter__ngram_range=(1, 3), counter__min_df=7, counter__max_df=0.91, counter__analyzer=char \n",
      "[CV]  rf__min_samples_split=2, rf__min_samples_leaf=47, rf__max_depth=15, counter__ngram_range=(1, 3), counter__min_df=7, counter__max_df=0.91, counter__analyzer=char, total=  10.8s\n",
      "[CV] rf__min_samples_split=2, rf__min_samples_leaf=47, rf__max_depth=15, counter__ngram_range=(1, 3), counter__min_df=7, counter__max_df=0.91, counter__analyzer=char \n",
      "[CV]  rf__min_samples_split=2, rf__min_samples_leaf=47, rf__max_depth=15, counter__ngram_range=(1, 3), counter__min_df=7, counter__max_df=0.91, counter__analyzer=char, total=  11.1s\n",
      "[CV] rf__min_samples_split=5, rf__min_samples_leaf=26, rf__max_depth=5, counter__ngram_range=(2, 3), counter__min_df=7, counter__max_df=0.85, counter__analyzer=word \n",
      "[CV]  rf__min_samples_split=5, rf__min_samples_leaf=26, rf__max_depth=5, counter__ngram_range=(2, 3), counter__min_df=7, counter__max_df=0.85, counter__analyzer=word, total= 3.1min\n",
      "[CV] rf__min_samples_split=5, rf__min_samples_leaf=26, rf__max_depth=5, counter__ngram_range=(2, 3), counter__min_df=7, counter__max_df=0.85, counter__analyzer=word \n",
      "[CV]  rf__min_samples_split=5, rf__min_samples_leaf=26, rf__max_depth=5, counter__ngram_range=(2, 3), counter__min_df=7, counter__max_df=0.85, counter__analyzer=word, total= 3.2min\n",
      "[CV] rf__min_samples_split=3, rf__min_samples_leaf=34, rf__max_depth=7, counter__ngram_range=(1, 3), counter__min_df=6, counter__max_df=0.86, counter__analyzer=word \n",
      "[CV]  rf__min_samples_split=3, rf__min_samples_leaf=34, rf__max_depth=7, counter__ngram_range=(1, 3), counter__min_df=6, counter__max_df=0.86, counter__analyzer=word, total= 2.9min\n",
      "[CV] rf__min_samples_split=3, rf__min_samples_leaf=34, rf__max_depth=7, counter__ngram_range=(1, 3), counter__min_df=6, counter__max_df=0.86, counter__analyzer=word \n",
      "[CV]  rf__min_samples_split=3, rf__min_samples_leaf=34, rf__max_depth=7, counter__ngram_range=(1, 3), counter__min_df=6, counter__max_df=0.86, counter__analyzer=word, total= 2.9min\n",
      "[CV] rf__min_samples_split=9, rf__min_samples_leaf=48, rf__max_depth=9, counter__ngram_range=(1, 2), counter__min_df=6, counter__max_df=0.91, counter__analyzer=char_wb \n",
      "[CV]  rf__min_samples_split=9, rf__min_samples_leaf=48, rf__max_depth=9, counter__ngram_range=(1, 2), counter__min_df=6, counter__max_df=0.91, counter__analyzer=char_wb, total=   8.0s\n",
      "[CV] rf__min_samples_split=9, rf__min_samples_leaf=48, rf__max_depth=9, counter__ngram_range=(1, 2), counter__min_df=6, counter__max_df=0.91, counter__analyzer=char_wb \n",
      "[CV]  rf__min_samples_split=9, rf__min_samples_leaf=48, rf__max_depth=9, counter__ngram_range=(1, 2), counter__min_df=6, counter__max_df=0.91, counter__analyzer=char_wb, total=   9.4s\n",
      "[CV] rf__min_samples_split=6, rf__min_samples_leaf=49, rf__max_depth=15, counter__ngram_range=(2, 7), counter__min_df=9, counter__max_df=0.95, counter__analyzer=char \n",
      "[CV]  rf__min_samples_split=6, rf__min_samples_leaf=49, rf__max_depth=15, counter__ngram_range=(2, 7), counter__min_df=9, counter__max_df=0.95, counter__analyzer=char, total=  42.0s\n",
      "[CV] rf__min_samples_split=6, rf__min_samples_leaf=49, rf__max_depth=15, counter__ngram_range=(2, 7), counter__min_df=9, counter__max_df=0.95, counter__analyzer=char \n",
      "[CV]  rf__min_samples_split=6, rf__min_samples_leaf=49, rf__max_depth=15, counter__ngram_range=(2, 7), counter__min_df=9, counter__max_df=0.95, counter__analyzer=char, total=  43.8s\n"
     ]
    },
    {
     "name": "stderr",
     "output_type": "stream",
     "text": [
      "[Parallel(n_jobs=1)]: Done  16 out of  16 | elapsed: 29.5min finished\n"
     ]
    }
   ],
   "source": [
    "best = rand_search.fit(X_train, y_train)"
   ]
  },
  {
   "cell_type": "code",
   "execution_count": 50,
   "metadata": {},
   "outputs": [
    {
     "data": {
      "text/plain": [
       "0.9743589743589743"
      ]
     },
     "execution_count": 50,
     "metadata": {},
     "output_type": "execute_result"
    }
   ],
   "source": [
    "best.best_estimator_.score(X_val, y_val)"
   ]
  },
  {
   "cell_type": "code",
   "execution_count": 56,
   "metadata": {},
   "outputs": [
    {
     "data": {
      "text/plain": [
       "TfidfVectorizer(analyzer='word', binary=False, decode_error='strict',\n",
       "                dtype=<class 'numpy.float64'>, encoding='utf-8',\n",
       "                input='content', lowercase=True, max_df=0.82, max_features=None,\n",
       "                min_df=4, ngram_range=(1, 2), norm='l2', preprocessor=None,\n",
       "                smooth_idf=True, stop_words=None, strip_accents=None,\n",
       "                sublinear_tf=False, token_pattern='(?u)\\\\b\\\\w\\\\w+\\\\b',\n",
       "                tokenizer=<function tokenize at 0x00000166C3F0F288>,\n",
       "                use_idf=True, vocabulary=None)"
      ]
     },
     "execution_count": 56,
     "metadata": {},
     "output_type": "execute_result"
    }
   ],
   "source": [
    "best.best_estimator_[0]"
   ]
  },
  {
   "cell_type": "code",
   "execution_count": null,
   "metadata": {},
   "outputs": [],
   "source": [
    "import pickle \n",
    "filename = 'rf_model.sav'\n",
    "pickle.dump(best, open(filename, 'wb'))"
   ]
  },
  {
   "cell_type": "markdown",
   "metadata": {},
   "source": [
    "## Nearest Neighbors Classifier"
   ]
  },
  {
   "cell_type": "code",
   "execution_count": 18,
   "metadata": {},
   "outputs": [],
   "source": [
    "from sklearn.neighbors import KNeighborsClassifier"
   ]
  },
  {
   "cell_type": "code",
   "execution_count": 57,
   "metadata": {},
   "outputs": [],
   "source": [
    "counter = best.best_estimator_[0] #from previous randomized search"
   ]
  },
  {
   "cell_type": "code",
   "execution_count": 207,
   "metadata": {},
   "outputs": [],
   "source": [
    "counts_train = counter.fit_transform(X_train).todense()\n",
    "counts_val = counter.transform(X_val).todense()"
   ]
  },
  {
   "cell_type": "code",
   "execution_count": 58,
   "metadata": {},
   "outputs": [
    {
     "ename": "NameError",
     "evalue": "name 'KNeighborsClassifier' is not defined",
     "output_type": "error",
     "traceback": [
      "\u001b[1;31m---------------------------------------------------------------------------\u001b[0m",
      "\u001b[1;31mNameError\u001b[0m                                 Traceback (most recent call last)",
      "\u001b[1;32m<ipython-input-58-f8615cabac1e>\u001b[0m in \u001b[0;36m<module>\u001b[1;34m\u001b[0m\n\u001b[1;32m----> 1\u001b[1;33m \u001b[0mknn\u001b[0m \u001b[1;33m=\u001b[0m \u001b[0mKNeighborsClassifier\u001b[0m\u001b[1;33m(\u001b[0m\u001b[0malgorithm\u001b[0m\u001b[1;33m=\u001b[0m\u001b[1;34m'kd_tree'\u001b[0m\u001b[1;33m,\u001b[0m \u001b[0mn_neighbors\u001b[0m\u001b[1;33m=\u001b[0m\u001b[1;36m1\u001b[0m\u001b[1;33m)\u001b[0m\u001b[1;33m\u001b[0m\u001b[1;33m\u001b[0m\u001b[0m\n\u001b[0m\u001b[0;32m      2\u001b[0m \u001b[0mknn\u001b[0m\u001b[1;33m.\u001b[0m\u001b[0mfit\u001b[0m\u001b[1;33m(\u001b[0m\u001b[0mcounts_train\u001b[0m\u001b[1;33m,\u001b[0m \u001b[0my_train\u001b[0m\u001b[1;33m)\u001b[0m\u001b[1;33m\u001b[0m\u001b[1;33m\u001b[0m\u001b[0m\n",
      "\u001b[1;31mNameError\u001b[0m: name 'KNeighborsClassifier' is not defined"
     ]
    }
   ],
   "source": [
    "knn = KNeighborsClassifier(algorithm='kd_tree', n_neighbors=1)\n",
    "knn.fit(counts_train, y_train)"
   ]
  },
  {
   "cell_type": "code",
   "execution_count": 212,
   "metadata": {},
   "outputs": [
    {
     "data": {
      "text/plain": [
       "0.5493615696044846"
      ]
     },
     "execution_count": 212,
     "metadata": {},
     "output_type": "execute_result"
    }
   ],
   "source": [
    "from sklearn.metrics import accuracy_score\n",
    "y_pred = knn.predict(counts_val)\n",
    "accuracy_score(y_val, y_pred)"
   ]
  },
  {
   "cell_type": "code",
   "execution_count": 16,
   "metadata": {},
   "outputs": [],
   "source": [
    "from sklearn.metrics import roc_auc_score\n",
    "y_pred = best.best_estimator_.predict(X_val)"
   ]
  },
  {
   "cell_type": "code",
   "execution_count": null,
   "metadata": {},
   "outputs": [],
   "source": [
    "import pickle \n",
    "filename = 'knn_model.sav'\n",
    "pickle.dump(best, open(filename, 'wb'))"
   ]
  },
  {
   "cell_type": "markdown",
   "metadata": {},
   "source": [
    "# Word Embeddings with Spacy"
   ]
  },
  {
   "cell_type": "code",
   "execution_count": 14,
   "metadata": {},
   "outputs": [],
   "source": [
    "def get_doc_vectors(words):\n",
    "    # converts a list of words into their word vectors\n",
    "    return [nlp(word).vector for word in words]"
   ]
  },
  {
   "cell_type": "code",
   "execution_count": 15,
   "metadata": {},
   "outputs": [
    {
     "ename": "FileNotFoundError",
     "evalue": "[Errno 2] No such file or directory: './models/word_vectors.pkl'",
     "output_type": "error",
     "traceback": [
      "\u001b[1;31m----------------------------------------------------------------\u001b[0m",
      "\u001b[1;31mFileNotFoundError\u001b[0m              Traceback (most recent call last)",
      "\u001b[1;32m<ipython-input-15-339be9225246>\u001b[0m in \u001b[0;36m<module>\u001b[1;34m\u001b[0m\n\u001b[0;32m      9\u001b[0m \u001b[1;33m\u001b[0m\u001b[0m\n\u001b[0;32m     10\u001b[0m \u001b[1;31m#Pickle 2D word vectors for use in dash app\u001b[0m\u001b[1;33m\u001b[0m\u001b[1;33m\u001b[0m\u001b[1;33m\u001b[0m\u001b[0m\n\u001b[1;32m---> 11\u001b[1;33m \u001b[0mfile\u001b[0m \u001b[1;33m=\u001b[0m \u001b[0mopen\u001b[0m\u001b[1;33m(\u001b[0m\u001b[1;34mf'./models/word_vectors.pkl'\u001b[0m\u001b[1;33m)\u001b[0m\u001b[1;33m\u001b[0m\u001b[1;33m\u001b[0m\u001b[0m\n\u001b[0m\u001b[0;32m     12\u001b[0m \u001b[0mpickle\u001b[0m\u001b[1;33m.\u001b[0m\u001b[0mdump\u001b[0m\u001b[1;33m(\u001b[0m\u001b[0mword_vecs_2d\u001b[0m\u001b[1;33m,\u001b[0m \u001b[0mfile\u001b[0m\u001b[1;33m)\u001b[0m\u001b[1;33m\u001b[0m\u001b[1;33m\u001b[0m\u001b[0m\n",
      "\u001b[1;31mFileNotFoundError\u001b[0m: [Errno 2] No such file or directory: './models/word_vectors.pkl'"
     ]
    }
   ],
   "source": [
    "from sklearn.decomposition import PCA\n",
    "import pickle\n",
    "pca = PCA(2)\n",
    "word_vecs_2d = get_doc_vectors(df_final)\n",
    "\n",
    "word_vecs_train = get_doc_vectors(X_train)\n",
    "word_vecs_val = get_doc_vectors(X_val)\n",
    "word_vecs_test = get_doc_vectors(X_test)"
   ]
  },
  {
   "cell_type": "code",
   "execution_count": 16,
   "metadata": {},
   "outputs": [],
   "source": [
    "#Pickle 2D word vectors for use in dash app\n",
    "file = open(f'./models/word_vectors.pkl', 'wb')\n",
    "pickle.dump(word_vecs_2d, file)"
   ]
  },
  {
   "cell_type": "code",
   "execution_count": 19,
   "metadata": {},
   "outputs": [
    {
     "name": "stdout",
     "output_type": "stream",
     "text": [
      "0.9351851851851852\n",
      "0.9444444444444444\n",
      "0.9351851851851852\n",
      "0.9351851851851852\n"
     ]
    }
   ],
   "source": [
    "from sklearn.pipeline import make_pipeline\n",
    "for k in range(5, 25, 5):\n",
    "    pca = PCA(2)\n",
    "    knn = KNeighborsClassifier(algorithm='kd_tree', n_neighbors = k, weights='distance', metric='euclidean')\n",
    "    pipeline = make_pipeline(pca, knn)\n",
    "    pipeline.fit(word_vecs_train, y_train)\n",
    "    print(pipeline.score(word_vecs_test, y_test))\n",
    "#     file = open(f'./models/model_k{k}.pkl', 'wb')\n",
    "#     pickle.dump(pipeline, file)\n",
    "#     file.close()"
   ]
  },
  {
   "cell_type": "code",
   "execution_count": 87,
   "metadata": {},
   "outputs": [
    {
     "data": {
      "text/plain": [
       "'The author most likely to have written your sample, \"Noam Chomsky was a great author\", is foucault.'"
      ]
     },
     "execution_count": 87,
     "metadata": {},
     "output_type": "execute_result"
    }
   ],
   "source": [
    "def display_results(text, k):\n",
    "    file = open(f'./models/model_k{k}.pkl', 'rb')\n",
    "    model = pickle.load(file)\n",
    "    file.close()\n",
    "    vector = get_doc_vectors(text)\n",
    "    new_obs = vector\n",
    "    pred = model.predict(new_obs)[0]\n",
    "    return f'The author most likely to have written your sample, \"{text}\", is {pred}.'\n",
    "\n",
    "display_results('Noam Chomsky was a great author', 5)"
   ]
  },
  {
   "cell_type": "code",
   "execution_count": 24,
   "metadata": {},
   "outputs": [
    {
     "data": {
      "text/plain": [
       "Text(0.5, 1.0, '')"
      ]
     },
     "execution_count": 24,
     "metadata": {},
     "output_type": "execute_result"
    },
    {
     "data": {
      "image/png": "[encoded data removed]",
      "text/plain": [
       "<Figure size 720x720 with 1 Axes>"
      ]
     },
     "metadata": {
      "needs_background": "light"
     },
     "output_type": "display_data"
    }
   ],
   "source": [
    "import seaborn as sns\n",
    "import matplotlib.pyplot as plt\n",
    "plt.figure(figsize=(10, 10))\n",
    "sns.scatterplot(word_vecs_2d[:,0], word_vecs_2d[:,1], hue=df_final['author'])\n",
    "plt.title('')"
   ]
  },
  {
   "cell_type": "markdown",
   "metadata": {},
   "source": [
    "# Word Embeddings w/ Gensim"
   ]
  },
  {
   "cell_type": "code",
   "execution_count": null,
   "metadata": {},
   "outputs": [],
   "source": [
    "import gensim\n",
    "from gensim import corpora\n",
    "from gensim.utils import simple_preprocess"
   ]
  },
  {
   "cell_type": "code",
   "execution_count": 137,
   "metadata": {},
   "outputs": [],
   "source": [
    "def read_corpus(series, tokens_only=False):\n",
    "    for i, doc in enumerate(series):\n",
    "        tokens = gensim.utils.simple_preprocess(doc)\n",
    "        print(tokens)\n",
    "        if tokens_only:\n",
    "            yield tokens\n",
    "        else:\n",
    "            # For training data, add tags\n",
    "            yield gensim.models.doc2vec.TaggedDocument(tokens, [i])"
   ]
  },
  {
   "cell_type": "code",
   "execution_count": 149,
   "metadata": {},
   "outputs": [
    {
     "name": "stdout",
     "output_type": "stream",
     "text": [
      "['rl', 'if', 'kjii', 'jp', 'kwsg', 'ffc', 'fffjil', 'ri', 'hscif', 'piini', 'pqb', 'ffi', 'ipil', 'igij', 'ssbhlil', 'ps', 'im', 'iilb', 'ii', 'msjr', 'tashi', 'nst', 'liii', 'sf', 'ic', 'tta', 'ksp', 'mr', 'izlv', 'siirhki', 'hhh', 'fjfi', 'imimmiumnmum', 'mm', 'ar', 'kttaskni', 'ks', 'ssi', 'sr', 'ziubuss', 'fmhlll', 'fiiblii', 'hi', 'hr', 'hhi', 'rwm', 'tret', 'sks', 'nh', 'ii']\n"
     ]
    },
    {
     "data": {
      "text/plain": [
       "TaggedDocument(words=['rl', 'if', 'kjii', 'jp', 'kwsg', 'ffc', 'fffjil', 'ri', 'hscif', 'piini', 'pqb', 'ffi', 'ipil', 'igij', 'ssbhlil', 'ps', 'im', 'iilb', 'ii', 'msjr', 'tashi', 'nst', 'liii', 'sf', 'ic', 'tta', 'ksp', 'mr', 'izlv', 'siirhki', 'hhh', 'fjfi', 'imimmiumnmum', 'mm', 'ar', 'kttaskni', 'ks', 'ssi', 'sr', 'ziubuss', 'fmhlll', 'fiiblii', 'hi', 'hr', 'hhi', 'rwm', 'tret', 'sks', 'nh', 'ii'], tags=[0])"
      ]
     },
     "execution_count": 149,
     "metadata": {},
     "output_type": "execute_result"
    }
   ],
   "source": [
    "next(read_corpus(df_final['extracts']))"
   ]
  },
  {
   "cell_type": "code",
   "execution_count": null,
   "metadata": {},
   "outputs": [],
   "source": []
  },
  {
   "cell_type": "code",
   "execution_count": null,
   "metadata": {},
   "outputs": [],
   "source": []
  }
 ],
 "metadata": {
  "colab": {
   "name": "Foucault vs Chomsky.ipynb",
   "provenance": []
  },
  "kernelspec": {
   "display_name": "my-virtualenv-name",
   "language": "python",
   "name": "my-virtualenv-name"
  },
  "language_info": {
   "codemirror_mode": {
    "name": "ipython",
    "version": 3
   },
   "file_extension": ".py",
   "mimetype": "text/x-python",
   "name": "python",
   "nbconvert_exporter": "python",
   "pygments_lexer": "ipython3",
   "version": "3.7.5"
  }
 },
 "nbformat": 4,
 "nbformat_minor": 4
}
